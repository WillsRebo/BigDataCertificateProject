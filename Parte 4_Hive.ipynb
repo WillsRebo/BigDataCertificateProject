{
 "cells": [
  {
   "cell_type": "code",
   "execution_count": null,
   "id": "9d1e2441-cb8c-438d-b7ab-f3cd8913f3b4",
   "metadata": {},
   "outputs": [],
   "source": [
    "# Relación costo de vida y poder adquisitvo local en países más y menos densamente poblados"
   ]
  },
  {
   "cell_type": "code",
   "execution_count": null,
   "id": "48749ac4-fc67-4674-8638-2a637a9b8007",
   "metadata": {},
   "outputs": [],
   "source": [
    "CREATE EXTERNAL TABLE IF NOT EXISTS costoVidaPoderAdquisitvoDensidadPoblacional (\n",
    "    country STRING,\n",
    "    cost_of_living_index_x FLOAT,\n",
    "    rent_index FLOAT,\n",
    "    cost_of_living_plus_rent_index FLOAT,\n",
    "    groceries_index FLOAT,\n",
    "    restaurant_price_index FLOAT,\n",
    "    local_purchasing_power_index FLOAT,\n",
    "    PRIMARY KEY (country)\n",
    ")\n",
    "ROW FORMAT DELIMITED\n",
    "FIELDS TERMINATED BY ','\n",
    "STORED AS TEXTFILE\n",
    "LOCATION '/HiveP4';"
   ]
  },
  {
   "cell_type": "code",
   "execution_count": null,
   "id": "da597146-379d-4efa-966a-db5a41d7591e",
   "metadata": {},
   "outputs": [],
   "source": [
    "#Variación de la distribución de edades en países con diferentes niveles de calidad de vida"
   ]
  },
  {
   "cell_type": "code",
   "execution_count": null,
   "id": "229ab0f8-5534-4ef6-869b-cad3b6e44d17",
   "metadata": {},
   "outputs": [],
   "source": [
    "CREATE EXTERNAL TABLE IF NOT EXISTS distribucionEdadesCalidadVida (\n",
    "    quality_life_range STRING,\n",
    "    age_0_to_14_years FLOAT,\n",
    "    age_15_to_64_years FLOAT,\n",
    "    age_above_65_years FLOAT,\n",
    "    country_count INT\n",
    ")\n",
    "ROW FORMAT DELIMITED\n",
    "FIELDS TERMINATED BY ','\n",
    "STORED AS TEXTFILE\n",
    "LOCATION '/HiveP4';"
   ]
  },
  {
   "cell_type": "code",
   "execution_count": null,
   "id": "bd568aed-6df1-4947-aa0a-ac201095cc5c",
   "metadata": {},
   "outputs": [],
   "source": [
    "# Paises con mejor balance entre costo de vida y calidad de vida"
   ]
  },
  {
   "cell_type": "code",
   "execution_count": null,
   "id": "7c713037-b9ca-464b-bec0-3c0f66816503",
   "metadata": {},
   "outputs": [],
   "source": [
    "CREATE EXTERNAL TABLE IF NOT EXISTS paisesMejorBalanceCostoCalidadVida (\n",
    "    country STRING,\n",
    "    balance_score FLOAT,\n",
    "    quality_of_life_index FLOAT,\n",
    "    cost_of_living_index_x FLOAT,\n",
    "    latitude FLOAT,\n",
    "    longitude FLOAT,\n",
    "    PRIMARY KEY (country)\n",
    ")\n",
    "ROW FORMAT DELIMITED\n",
    "FIELDS TERMINATED BY ','\n",
    "STORED AS TEXTFILE\n",
    "LOCATION '/HiveP4';"
   ]
  },
  {
   "cell_type": "code",
   "execution_count": null,
   "id": "9211f7d9-1e7e-4665-8f01-e1bb66ed393f",
   "metadata": {},
   "outputs": [],
   "source": [
    "# Impacto de los índices de seguridad y crimen en el costo de vida"
   ]
  },
  {
   "cell_type": "code",
   "execution_count": null,
   "id": "4800914f-2523-4704-8ca5-5fccc4b2b527",
   "metadata": {},
   "outputs": [],
   "source": [
    "CREATE EXTERNAL TABLE IF NOT EXISTS impactoSeguridadCrimenCostoVida (\n",
    "    country STRING,\n",
    "    cost_of_living_index FLOAT,\n",
    "    safety_index FLOAT,\n",
    "    crime_index FLOAT,\n",
    "    PRIMARY KEY (country)\n",
    ")\n",
    "ROW FORMAT DELIMITED\n",
    "FIELDS TERMINATED BY ','\n",
    "STORED AS TEXTFILE\n",
    "LOCATION '/HiveP4';"
   ]
  },
  {
   "cell_type": "code",
   "execution_count": null,
   "id": "0af71619-3dd7-490d-a407-f65937dbdaa7",
   "metadata": {},
   "outputs": [],
   "source": [
    "# Calidad del sistema de salud según densidad poblacional"
   ]
  },
  {
   "cell_type": "code",
   "execution_count": null,
   "id": "7ef45eec-85ac-409e-9a94-6f449d5d1778",
   "metadata": {},
   "outputs": [],
   "source": [
    "CREATE EXTERNAL TABLE IF NOT EXISTS sistemaSaludDensidadPoblacion (\n",
    "    country STRING,\n",
    "    density_pop_per_km2 FLOAT,\n",
    "    density_category STRING,\n",
    "    health_care_index FLOAT,\n",
    "    PRIMARY KEY (country)\n",
    ")\n",
    "ROW FORMAT DELIMITED\n",
    "FIELDS TERMINATED BY ','\n",
    "STORED AS TEXTFILE\n",
    "LOCATION '/HiveP4';"
   ]
  },
  {
   "cell_type": "code",
   "execution_count": null,
   "id": "004ac0ea-ddb5-4400-85b9-0a4090179f62",
   "metadata": {},
   "outputs": [],
   "source": [
    "# Países más accesibles para comprar vivienda considerando los índices económicos"
   ]
  },
  {
   "cell_type": "code",
   "execution_count": null,
   "id": "5496e547-79b1-4b60-8986-c7eb232c55d9",
   "metadata": {},
   "outputs": [],
   "source": [
    "CREATE EXTERNAL TABLE IF NOT EXISTS paisesAccesiblesCompraVivienda (\n",
    "    country STRING,\n",
    "    price_to_income_ratio FLOAT,\n",
    "    affordability_index FLOAT,\n",
    "    gross_rental_yield_city_centre FLOAT,\n",
    "    local_purchasing_power_index FLOAT,\n",
    "    PRIMARY KEY (country)\n",
    ")\n",
    "ROW FORMAT DELIMITED\n",
    "FIELDS TERMINATED BY ','\n",
    "STORED AS TEXTFILE\n",
    "LOCATION '/HiveP4';"
   ]
  },
  {
   "cell_type": "code",
   "execution_count": null,
   "id": "0c4fe07f-abab-4c92-b466-d0c78365d470",
   "metadata": {},
   "outputs": [],
   "source": [
    "# Incidencia de la contaminación en los índices de calidad de vida y salud"
   ]
  },
  {
   "cell_type": "code",
   "execution_count": null,
   "id": "66ff4343-94e9-4693-b02b-d2560ff557e1",
   "metadata": {},
   "outputs": [],
   "source": [
    "CREATE EXTERNAL TABLE IF NOT EXISTS incidenciaContaminacionSalud (\n",
    "    country STRING,\n",
    "    health_care_index_x FLOAT,\n",
    "    quality_of_life_index FLOAT,\n",
    "    pollution_index FLOAT,\n",
    "    PRIMARY KEY (country)\n",
    ")\n",
    "ROW FORMAT DELIMITED\n",
    "FIELDS TERMINATED BY ','\n",
    "STORED AS TEXTFILE\n",
    "LOCATION '/HiveP4';"
   ]
  },
  {
   "cell_type": "code",
   "execution_count": null,
   "id": "b57ef94e-3403-4d23-99ed-177de18d435f",
   "metadata": {},
   "outputs": [],
   "source": [
    "# Países destacados dado su equilibrio entre calidad de vida, salud seguirdad y vivienda"
   ]
  },
  {
   "cell_type": "code",
   "execution_count": null,
   "id": "0e539676-6ac5-4ebc-884d-aee17401e11a",
   "metadata": {},
   "outputs": [],
   "source": [
    "CREATE EXTERNAL TABLE IF NOT EXISTS paisesDestacadosEqulibrioEntreIndices (\n",
    "    country STRING,\n",
    "    quality_of_life_index FLOAT,\n",
    "    health_care_index_y FLOAT,\n",
    "    safety_index_y FLOAT,\n",
    "    affordability_index FLOAT,\n",
    "    PRIMARY KEY (country)\n",
    ")\n",
    "ROW FORMAT DELIMITED\n",
    "FIELDS TERMINATED BY ','\n",
    "STORED AS TEXTFILE\n",
    "LOCATION '/HiveP4';"
   ]
  }
 ],
 "metadata": {
  "kernelspec": {
   "display_name": "Python 3 (ipykernel)",
   "language": "python",
   "name": "python3"
  },
  "language_info": {
   "codemirror_mode": {
    "name": "ipython",
    "version": 3
   },
   "file_extension": ".py",
   "mimetype": "text/x-python",
   "name": "python",
   "nbconvert_exporter": "python",
   "pygments_lexer": "ipython3",
   "version": "3.12.4"
  }
 },
 "nbformat": 4,
 "nbformat_minor": 5
}
