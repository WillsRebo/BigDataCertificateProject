{
  "nbformat": 4,
  "nbformat_minor": 0,
  "metadata": {
    "colab": {
      "provenance": []
    },
    "kernelspec": {
      "name": "python3",
      "display_name": "Python 3"
    },
    "language_info": {
      "name": "python"
    }
  },
  "cells": [
    {
      "cell_type": "markdown",
      "source": [
        "Parte 2 Obligatorio_ Análisis de datos con Spark"
      ],
      "metadata": {
        "id": "y1AjOwmdvlc5"
      }
    },
    {
      "cell_type": "markdown",
      "source": [
        "Preparación del ambiente"
      ],
      "metadata": {
        "id": "d90EGosdvyd6"
      }
    },
    {
      "cell_type": "code",
      "execution_count": 1,
      "metadata": {
        "id": "tI3nzV3Ap3mw"
      },
      "outputs": [],
      "source": [
        "# Instalación de Java\n",
        "!apt-get install openjdk-8-jdk-headless -qq > /dev/null\n",
        "\n",
        "# Descargar e instalar Spark\n",
        "!wget -q https://archive.apache.org/dist/spark/spark-3.1.2/spark-3.1.2-bin-hadoop2.7.tgz\n",
        "!tar xf spark-3.1.2-bin-hadoop2.7.tgz\n",
        "\n",
        "# Instalación de findspark\n",
        "!pip install -q findspark\n",
        "\n",
        "# Configuración de las variables de entorno\n",
        "import os\n",
        "os.environ[\"JAVA_HOME\"] = \"/usr/lib/jvm/java-8-openjdk-amd64\"\n",
        "os.environ[\"SPARK_HOME\"] = \"/content/spark-3.1.2-bin-hadoop2.7\"\n",
        "\n",
        "# Inicialización de findspark\n",
        "import findspark\n",
        "findspark.init()"
      ]
    },
    {
      "cell_type": "code",
      "source": [
        "from pyspark.sql.functions import *\n",
        "from google.colab import drive\n",
        "drive.mount('/content/drive')\n",
        "\n",
        "# Crear una sesión de Spark\n",
        "from pyspark.sql import SparkSession\n",
        "spark = SparkSession.builder.master(\"local[*]\").getOrCreate()"
      ],
      "metadata": {
        "colab": {
          "base_uri": "https://localhost:8080/"
        },
        "collapsed": true,
        "id": "kRvaoJtyvjdM",
        "outputId": "b3b64adb-e140-415c-f442-12e9ae532f7a"
      },
      "execution_count": 4,
      "outputs": [
        {
          "output_type": "stream",
          "name": "stdout",
          "text": [
            "Drive already mounted at /content/drive; to attempt to forcibly remount, call drive.mount(\"/content/drive\", force_remount=True).\n"
          ]
        }
      ]
    },
    {
      "cell_type": "code",
      "source": [
        "# Rutas en Drive\n",
        "RawInput = '/content/drive/MyDrive/BigData/RawData'\n",
        "RefinedOutput = '/content/drive/MyDrive/BigData/SparkRefinedData'"
      ],
      "metadata": {
        "id": "6vj-uMon1h9c"
      },
      "execution_count": 2,
      "outputs": []
    },
    {
      "cell_type": "markdown",
      "source": [
        "Carga de tablas"
      ],
      "metadata": {
        "id": "gognRccb3CNL"
      }
    },
    {
      "cell_type": "code",
      "source": [
        "# Ruta a tablas\n",
        "costLivingIndex_access = RawInput + '/Cost of living index by country 2020.csv'\n",
        "countriesAgeStructure_access = RawInput + '/Coutries age structure.csv'\n",
        "crimeIndex_access = RawInput + '/Crime index by countries 2020.csv'\n",
        "healthCareIndex_access = RawInput + '/Health care index by countries 2020.csv'\n",
        "propertiesPriceIndex_access= RawInput + '/Properties price index by countries 2020.csv'\n",
        "populationDensityIndex_access= RawInput + '/Pupulation density by countries.csv'\n",
        "qualityLifeIndex_access = RawInput + '/Quality of life index by countries 2020.csv'\n",
        "\n",
        "\n",
        "\n",
        "# Cargar la tabla de datos\n",
        "df_Cost_of_living_index_by_country_2020 = spark.read.csv(costLivingIndex_access, header=True, inferSchema=True)\n",
        "df_Coutries_age_structure= spark.read.csv(countriesAgeStructure_access, header=True, inferSchema=True)\n",
        "df_Crime_index_by_countries_2020=spark.read.csv(crimeIndex_access, header=True, inferSchema=True)\n",
        "df_Health_care_index_by_countries_2020=spark.read.csv(healthCareIndex_access, header=True, inferSchema=True)\n",
        "df_Properties_price_index_by_countries_2020=spark.read.csv(propertiesPriceIndex_access, header=True, inferSchema=True)\n",
        "df_Pupulation_density_by_countries=spark.read.csv(populationDensityIndex_access, header=True, inferSchema=True)\n",
        "df_Quality_of_life_index_by_countries_2020=spark.read.csv(qualityLifeIndex_access, header=True, inferSchema=True)\n",
        "\n"
      ],
      "metadata": {
        "id": "ILVCpQHD2yPC"
      },
      "execution_count": 5,
      "outputs": []
    },
    {
      "cell_type": "markdown",
      "source": [
        "////////////////////////////////////////////////////\n",
        "Cost_of_living_index_by_country_2020.csv\n",
        "////////////////////////////////////////////////////"
      ],
      "metadata": {
        "id": "R6PmDsOk8I2R"
      }
    },
    {
      "cell_type": "code",
      "source": [
        "from pyspark.sql.functions import col, count, when\n",
        "\n",
        "\n",
        "# Visualización de las primeras 10 líneas\n",
        "df_Cost_of_living_index_by_country_2020.show(10)\n",
        "\n"
      ],
      "metadata": {
        "colab": {
          "base_uri": "https://localhost:8080/"
        },
        "id": "E79KuxkK8G-w",
        "outputId": "4396a206-126e-40eb-f32f-289f32ac85fd"
      },
      "execution_count": null,
      "outputs": [
        {
          "output_type": "stream",
          "name": "stdout",
          "text": [
            "+-----------+--------------------+----------+------------------------------+---------------+----------------------+----------------------------+\n",
            "|    Country|Cost of Living Index|Rent Index|Cost of Living Plus Rent Index|Groceries Index|Restaurant Price Index|Local Purchasing Power Index|\n",
            "+-----------+--------------------+----------+------------------------------+---------------+----------------------+----------------------------+\n",
            "|Switzerland|               122.4|     50.25|                         87.89|         120.27|                123.01|                      119.53|\n",
            "|     Norway|              101.43|     36.15|                         70.21|          91.14|                109.28|                       88.38|\n",
            "|    Iceland|              100.48|     46.95|                         74.88|          86.89|                113.74|                       79.44|\n",
            "|      Japan|               83.35|     25.97|                          55.9|          81.82|                 48.95|                       87.28|\n",
            "|    Denmark|                83.0|     31.92|                         58.57|          61.74|                100.75|                      100.88|\n",
            "|    Bahamas|               82.51|     36.36|                         60.43|          62.65|                 83.66|                       54.18|\n",
            "| Luxembourg|               81.89|     54.92|                         68.99|           69.1|                 89.85|                      103.92|\n",
            "|     Israel|               81.15|     31.33|                         57.32|          66.31|                 88.65|                       78.09|\n",
            "|  Singapore|                81.1|     63.27|                         72.58|          66.75|                 58.99|                       88.96|\n",
            "|South Korea|               78.18|     22.86|                         51.72|          91.31|                 44.87|                       85.21|\n",
            "+-----------+--------------------+----------+------------------------------+---------------+----------------------+----------------------------+\n",
            "only showing top 10 rows\n",
            "\n"
          ]
        }
      ]
    },
    {
      "cell_type": "code",
      "source": [
        "# Forma del dataset (conteo de filas y columnas)\n",
        "row_count = df_Cost_of_living_index_by_country_2020.count()\n",
        "column_count = len(df_Cost_of_living_index_by_country_2020.columns)\n",
        "print(f\"El dataset tiene {row_count} filas y {column_count} columnas.\")\n"
      ],
      "metadata": {
        "colab": {
          "base_uri": "https://localhost:8080/"
        },
        "id": "8Nt5yv9C-Xhg",
        "outputId": "d442ce8e-bc3e-4662-da2f-6e31df416282"
      },
      "execution_count": null,
      "outputs": [
        {
          "output_type": "stream",
          "name": "stdout",
          "text": [
            "El dataset tiene 132 filas y 7 columnas.\n"
          ]
        }
      ]
    },
    {
      "cell_type": "code",
      "source": [
        "\n",
        "# Verificar valores nulos por columna\n",
        "df_Cost_of_living_index_by_country_2020.select([count(when(col(c).isNull(), c)).alias(c) for c in df_Cost_of_living_index_by_country_2020.columns]).show()\n"
      ],
      "metadata": {
        "colab": {
          "base_uri": "https://localhost:8080/"
        },
        "id": "1OtDCoEF-X-I",
        "outputId": "6e9b3408-bd0f-48a9-e802-130d52519122"
      },
      "execution_count": null,
      "outputs": [
        {
          "output_type": "stream",
          "name": "stdout",
          "text": [
            "+-------+--------------------+----------+------------------------------+---------------+----------------------+----------------------------+\n",
            "|Country|Cost of Living Index|Rent Index|Cost of Living Plus Rent Index|Groceries Index|Restaurant Price Index|Local Purchasing Power Index|\n",
            "+-------+--------------------+----------+------------------------------+---------------+----------------------+----------------------------+\n",
            "|      0|                   0|         0|                             0|              0|                     0|                           0|\n",
            "+-------+--------------------+----------+------------------------------+---------------+----------------------+----------------------------+\n",
            "\n"
          ]
        }
      ]
    },
    {
      "cell_type": "code",
      "source": [
        "\n",
        "# Identificación de columnas, contenidos no nulos y tipos de datos\n",
        "df_Cost_of_living_index_by_country_2020.printSchema()\n"
      ],
      "metadata": {
        "colab": {
          "base_uri": "https://localhost:8080/"
        },
        "id": "LIc_fyYx-YHI",
        "outputId": "20f00f7a-0e79-42b0-e0f7-8c3d97a5c75d"
      },
      "execution_count": null,
      "outputs": [
        {
          "output_type": "stream",
          "name": "stdout",
          "text": [
            "root\n",
            " |-- Country: string (nullable = true)\n",
            " |-- Cost of Living Index: double (nullable = true)\n",
            " |-- Rent Index: double (nullable = true)\n",
            " |-- Cost of Living Plus Rent Index: double (nullable = true)\n",
            " |-- Groceries Index: double (nullable = true)\n",
            " |-- Restaurant Price Index: double (nullable = true)\n",
            " |-- Local Purchasing Power Index: double (nullable = true)\n",
            "\n"
          ]
        }
      ]
    },
    {
      "cell_type": "code",
      "source": [
        "\n",
        "# Visualización general de la tabla\n",
        "df_Cost_of_living_index_by_country_2020.show(truncate=False)\n"
      ],
      "metadata": {
        "colab": {
          "base_uri": "https://localhost:8080/"
        },
        "id": "JEkXpIGX-YP3",
        "outputId": "5537ab31-97fa-42f0-83d1-1d17b5450087"
      },
      "execution_count": null,
      "outputs": [
        {
          "output_type": "stream",
          "name": "stdout",
          "text": [
            "+-------------+--------------------+----------+------------------------------+---------------+----------------------+----------------------------+\n",
            "|Country      |Cost of Living Index|Rent Index|Cost of Living Plus Rent Index|Groceries Index|Restaurant Price Index|Local Purchasing Power Index|\n",
            "+-------------+--------------------+----------+------------------------------+---------------+----------------------+----------------------------+\n",
            "|Switzerland  |122.4               |50.25     |87.89                         |120.27         |123.01                |119.53                      |\n",
            "|Norway       |101.43              |36.15     |70.21                         |91.14          |109.28                |88.38                       |\n",
            "|Iceland      |100.48              |46.95     |74.88                         |86.89          |113.74                |79.44                       |\n",
            "|Japan        |83.35               |25.97     |55.9                          |81.82          |48.95                 |87.28                       |\n",
            "|Denmark      |83.0                |31.92     |58.57                         |61.74          |100.75                |100.88                      |\n",
            "|Bahamas      |82.51               |36.36     |60.43                         |62.65          |83.66                 |54.18                       |\n",
            "|Luxembourg   |81.89               |54.92     |68.99                         |69.1           |89.85                 |103.92                      |\n",
            "|Israel       |81.15               |31.33     |57.32                         |66.31          |88.65                 |78.09                       |\n",
            "|Singapore    |81.1                |63.27     |72.58                         |66.75          |58.99                 |88.96                       |\n",
            "|South Korea  |78.18               |22.86     |51.72                         |91.31          |44.87                 |85.21                       |\n",
            "|Hong Kong    |77.22               |79.57     |78.35                         |75.94          |54.36                 |65.32                       |\n",
            "|Barbados     |76.02               |19.7      |49.08                         |65.2           |68.14                 |51.1                        |\n",
            "|Ireland      |75.91               |43.88     |60.59                         |58.35          |81.24                 |80.88                       |\n",
            "|France       |74.14               |25.39     |50.82                         |67.9           |72.54                 |80.36                       |\n",
            "|Netherlands  |73.75               |35.18     |55.3                          |55.87          |80.48                 |90.73                       |\n",
            "|Australia    |73.54               |34.86     |55.04                         |67.23          |70.32                 |107.31                      |\n",
            "|New Zealand  |72.53               |32.09     |53.19                         |64.69          |68.8                  |92.66                       |\n",
            "|Belgium      |71.78               |25.43     |49.61                         |58.66          |80.14                 |86.28                       |\n",
            "|Seychelles   |71.59               |32.34     |52.81                         |64.61          |84.86                 |21.67                       |\n",
            "|United States|71.05               |40.32     |56.36                         |66.61          |70.74                 |109.52                      |\n",
            "+-------------+--------------------+----------+------------------------------+---------------+----------------------+----------------------------+\n",
            "only showing top 20 rows\n",
            "\n"
          ]
        }
      ]
    },
    {
      "cell_type": "code",
      "source": [
        "\n",
        "# Verificar duplicados en la columna 'Country'\n",
        "has_duplicates = df_Cost_of_living_index_by_country_2020.select(\"Country\").distinct().count() < df_Cost_of_living_index_by_country_2020.count()\n",
        "print(f\"¿Existen duplicados en la columna 'Country'? {has_duplicates}\")\n"
      ],
      "metadata": {
        "colab": {
          "base_uri": "https://localhost:8080/"
        },
        "id": "VEJfWY3c-m15",
        "outputId": "13a96104-63cc-46bc-e7d3-0a1b1a05f5bf"
      },
      "execution_count": null,
      "outputs": [
        {
          "output_type": "stream",
          "name": "stdout",
          "text": [
            "¿Existen duplicados en la columna 'Country'? False\n"
          ]
        }
      ]
    },
    {
      "cell_type": "code",
      "source": [
        "\n",
        "# Estadísticas descriptivas de las métricas numéricas\n",
        "df_Cost_of_living_index_by_country_2020.describe().show()\n"
      ],
      "metadata": {
        "colab": {
          "base_uri": "https://localhost:8080/"
        },
        "id": "ZHqjA2yC-m94",
        "outputId": "ac100124-5502-4b6e-ef52-e0a0f0dd9b61"
      },
      "execution_count": null,
      "outputs": [
        {
          "output_type": "stream",
          "name": "stdout",
          "text": [
            "+-------+-----------+--------------------+------------------+------------------------------+------------------+----------------------+----------------------------+\n",
            "|summary|    Country|Cost of Living Index|        Rent Index|Cost of Living Plus Rent Index|   Groceries Index|Restaurant Price Index|Local Purchasing Power Index|\n",
            "+-------+-----------+--------------------+------------------+------------------------------+------------------+----------------------+----------------------------+\n",
            "|  count|        132|                 132|               132|                           132|               132|                   132|                         132|\n",
            "|   mean|       null|     49.214696969697| 18.08946969696969|             34.32727272727272| 42.58303030303032|     42.27143939393938|           50.32469696969696|\n",
            "| stddev|       null|  18.404922318671357|12.808608169043291|            14.989051988972005|17.302168065152994|    22.423585325017957|           27.35711145636023|\n",
            "|    min|Afghanistan|               21.98|              4.03|                         13.66|              17.7|                 14.95|                        2.18|\n",
            "|    max|   Zimbabwe|               122.4|             79.57|                         87.89|            120.27|                123.01|                      119.53|\n",
            "+-------+-----------+--------------------+------------------+------------------------------+------------------+----------------------+----------------------------+\n",
            "\n"
          ]
        }
      ]
    },
    {
      "cell_type": "code",
      "source": [
        "\n",
        "# Eliminar el país Kosovo (Disputed Territory)\n",
        "df_Cost_of_living_index_by_country_2020 = df_Cost_of_living_index_by_country_2020.filter(~col(\"Country\").rlike(r'\\(|\\)'))\n"
      ],
      "metadata": {
        "id": "xLBmkewM-nES"
      },
      "execution_count": null,
      "outputs": []
    },
    {
      "cell_type": "code",
      "source": [
        "\n",
        "# Verificar que se eliminó correctamente y revisar estructura\n",
        "print(f\"Cantidad de filas después de la eliminación: {df_Cost_of_living_index_by_country_2020.count()}\")\n",
        "df_Cost_of_living_index_by_country_2020.printSchema()\n"
      ],
      "metadata": {
        "colab": {
          "base_uri": "https://localhost:8080/"
        },
        "id": "rqTYvLNJ-r05",
        "outputId": "1bb9bd33-097c-43b3-8808-f70e2ad42323"
      },
      "execution_count": null,
      "outputs": [
        {
          "output_type": "stream",
          "name": "stdout",
          "text": [
            "Cantidad de filas después de la eliminación: 131\n",
            "root\n",
            " |-- Country: string (nullable = true)\n",
            " |-- Cost of Living Index: double (nullable = true)\n",
            " |-- Rent Index: double (nullable = true)\n",
            " |-- Cost of Living Plus Rent Index: double (nullable = true)\n",
            " |-- Groceries Index: double (nullable = true)\n",
            " |-- Restaurant Price Index: double (nullable = true)\n",
            " |-- Local Purchasing Power Index: double (nullable = true)\n",
            "\n"
          ]
        }
      ]
    },
    {
      "cell_type": "code",
      "source": [
        "\n",
        "# Eliminar espacios en blanco en las columnas de texto\n",
        "from pyspark.sql.functions import trim\n",
        "df_Cost_of_living_index_by_country_2020 = df_Cost_of_living_index_by_country_2020.select([trim(col(c)).alias(c) if df_Cost_of_living_index_by_country_2020.schema[c].dataType == \"StringType\" else col(c) for c in df_Cost_of_living_index_by_country_2020.columns])\n"
      ],
      "metadata": {
        "id": "XEOp2G4t-r-p"
      },
      "execution_count": null,
      "outputs": []
    },
    {
      "cell_type": "code",
      "source": [
        "\n",
        "# Guardar la tabla refinada en la carpeta RefinedData\n",
        "df_Cost_of_living_index_by_country_2020.write.csv(RefinedOutput + \"/RefData_Cost_of_living_index_by_country_2020.csv\", header=True)\n",
        "\n"
      ],
      "metadata": {
        "id": "2wPAIQYI-nJh"
      },
      "execution_count": null,
      "outputs": []
    },
    {
      "cell_type": "markdown",
      "source": [
        "////////////////////////////////////////////////////\n",
        "Coutries_age_structure.csv\n",
        "////////////////////////////////////////////////////"
      ],
      "metadata": {
        "id": "iBNmK6Z6EjKK"
      }
    },
    {
      "cell_type": "code",
      "source": [
        "from pyspark.sql.functions import col, count, when, regexp_replace, trim\n",
        "\n",
        "\n",
        "\n",
        "# Visualización de las primeras 10 líneas\n",
        "df_Coutries_age_structure.show(10)\n"
      ],
      "metadata": {
        "colab": {
          "base_uri": "https://localhost:8080/"
        },
        "id": "Mmc5vrzmEiGa",
        "outputId": "da64465a-0ed6-4b39-b451-2a7cfd54125a"
      },
      "execution_count": null,
      "outputs": [
        {
          "output_type": "stream",
          "name": "stdout",
          "text": [
            "+--------+-----------------+------------------+------------------+\n",
            "| Country|Age 0 to 14 Years|Age 15 to 64 Years|Age above 65 Years|\n",
            "+--------+-----------------+------------------+------------------+\n",
            "|   Japan|           12.90%|            60.10%|               27%|\n",
            "|   Italy|           13.50%|            63.50%|               23%|\n",
            "|Portugal|           13.60%|            64.90%|               22%|\n",
            "| Germany|           13.10%|            65.50%|               22%|\n",
            "| Finland|           16.40%|            62.40%|               21%|\n",
            "|Bulgaria|           14.20%|            65.00%|               21%|\n",
            "|  Greece|           14.20%|            65.40%|               20%|\n",
            "|  Sweden|           17.50%|            62.50%|               20%|\n",
            "|  Latvia|           15.40%|            64.80%|               20%|\n",
            "| Denmark|           16.50%|            63.80%|               20%|\n",
            "+--------+-----------------+------------------+------------------+\n",
            "only showing top 10 rows\n",
            "\n"
          ]
        }
      ]
    },
    {
      "cell_type": "code",
      "source": [
        "\n",
        "# Forma del dataset (cantidad de filas y columnas)\n",
        "row_count = df_Coutries_age_structure.count()\n",
        "column_count = len(df_Coutries_age_structure.columns)\n",
        "print(f\"El dataset tiene {row_count} filas y {column_count} columnas.\")\n"
      ],
      "metadata": {
        "colab": {
          "base_uri": "https://localhost:8080/"
        },
        "id": "3AItNAeUKIbh",
        "outputId": "39504262-7b25-45ea-cb71-fd644d98d5f7"
      },
      "execution_count": null,
      "outputs": [
        {
          "output_type": "stream",
          "name": "stdout",
          "text": [
            "El dataset tiene 191 filas y 4 columnas.\n"
          ]
        }
      ]
    },
    {
      "cell_type": "code",
      "source": [
        "\n",
        "# Identificación de columnas, contenidos no nulos y tipos de datos\n",
        "df_Coutries_age_structure.printSchema()\n"
      ],
      "metadata": {
        "colab": {
          "base_uri": "https://localhost:8080/"
        },
        "id": "IfBQ9sGgKIq6",
        "outputId": "f62fe1e2-9672-432f-fe8a-dc3c14435969"
      },
      "execution_count": null,
      "outputs": [
        {
          "output_type": "stream",
          "name": "stdout",
          "text": [
            "root\n",
            " |-- Country: string (nullable = true)\n",
            " |-- Age 0 to 14 Years: string (nullable = true)\n",
            " |-- Age 15 to 64 Years: string (nullable = true)\n",
            " |-- Age above 65 Years: string (nullable = true)\n",
            "\n"
          ]
        }
      ]
    },
    {
      "cell_type": "code",
      "source": [
        "\n",
        "# Verificar duplicados en la columna 'Country'\n",
        "has_duplicates = df_Coutries_age_structure.select(\"Country\").distinct().count() < df_Coutries_age_structure.count()\n",
        "print(f\"¿Existen duplicados en la columna 'Country'? {has_duplicates}\")\n"
      ],
      "metadata": {
        "colab": {
          "base_uri": "https://localhost:8080/"
        },
        "id": "Ajls9aAtKIvB",
        "outputId": "eb36af3b-a505-43c5-81fc-0359618ac4b4"
      },
      "execution_count": null,
      "outputs": [
        {
          "output_type": "stream",
          "name": "stdout",
          "text": [
            "¿Existen duplicados en la columna 'Country'? False\n"
          ]
        }
      ]
    },
    {
      "cell_type": "code",
      "source": [
        "\n",
        "# Estadísticas descriptivas iniciales\n",
        "df_Coutries_age_structure.describe().show()\n"
      ],
      "metadata": {
        "colab": {
          "base_uri": "https://localhost:8080/"
        },
        "id": "2u63uUrYKIyK",
        "outputId": "fb8d393e-d5b2-4d3a-9fa4-64e2d9a002f7"
      },
      "execution_count": null,
      "outputs": [
        {
          "output_type": "stream",
          "name": "stdout",
          "text": [
            "+-------+-----------+-----------------+------------------+------------------+\n",
            "|summary|    Country|Age 0 to 14 Years|Age 15 to 64 Years|Age above 65 Years|\n",
            "+-------+-----------+-----------------+------------------+------------------+\n",
            "|  count|        191|              191|               191|               191|\n",
            "|   mean|       null|             null|              null|              null|\n",
            "| stddev|       null|             null|              null|              null|\n",
            "|    min|Afghanistan|           11.50%|            47.20%|                1%|\n",
            "|    max|   Zimbabwe|           50.20%|            85.00%|                9%|\n",
            "+-------+-----------+-----------------+------------------+------------------+\n",
            "\n"
          ]
        }
      ]
    },
    {
      "cell_type": "code",
      "source": [
        "\n",
        "# Convertir columnas de porcentaje (string) a float\n",
        "columns_to_convert = ['Age 0 to 14 Years', 'Age 15 to 64 Years', 'Age above 65 Years']\n",
        "for col_name in columns_to_convert:\n",
        "    df_Coutries_age_structure = df_Coutries_age_structure.withColumn(col_name, regexp_replace(col(col_name), '%', '').cast('float'))\n",
        "\n",
        "# Visualización después de la conversión\n",
        "df_Coutries_age_structure.show(15)\n"
      ],
      "metadata": {
        "colab": {
          "base_uri": "https://localhost:8080/"
        },
        "id": "9F9dUiOTKI1N",
        "outputId": "e6863b02-5754-4f77-c4d5-cfb39d93cfd3"
      },
      "execution_count": null,
      "outputs": [
        {
          "output_type": "stream",
          "name": "stdout",
          "text": [
            "+--------+-----------------+------------------+------------------+\n",
            "| Country|Age 0 to 14 Years|Age 15 to 64 Years|Age above 65 Years|\n",
            "+--------+-----------------+------------------+------------------+\n",
            "|   Japan|             12.9|              60.1|              27.0|\n",
            "|   Italy|             13.5|              63.5|              23.0|\n",
            "|Portugal|             13.6|              64.9|              22.0|\n",
            "| Germany|             13.1|              65.5|              22.0|\n",
            "| Finland|             16.4|              62.4|              21.0|\n",
            "|Bulgaria|             14.2|              65.0|              21.0|\n",
            "|  Greece|             14.2|              65.4|              20.0|\n",
            "|  Sweden|             17.5|              62.5|              20.0|\n",
            "|  Latvia|             15.4|              64.8|              20.0|\n",
            "| Denmark|             16.5|              63.8|              20.0|\n",
            "|  France|             18.1|              62.2|              20.0|\n",
            "| Croatia|             14.7|              65.6|              20.0|\n",
            "| Estonia|             16.4|              64.2|              20.0|\n",
            "|   Malta|             14.4|              66.1|              19.0|\n",
            "|   Spain|             14.7|              65.9|              19.0|\n",
            "+--------+-----------------+------------------+------------------+\n",
            "only showing top 15 rows\n",
            "\n"
          ]
        }
      ]
    },
    {
      "cell_type": "code",
      "source": [
        "\n",
        "# Estadísticas descriptivas después de la conversión\n",
        "df_Coutries_age_structure.describe().show()\n"
      ],
      "metadata": {
        "colab": {
          "base_uri": "https://localhost:8080/"
        },
        "id": "e438M-dPKI4C",
        "outputId": "d359807a-769c-4918-f7e0-07d1d07e5c71"
      },
      "execution_count": null,
      "outputs": [
        {
          "output_type": "stream",
          "name": "stdout",
          "text": [
            "+-------+-----------+------------------+------------------+------------------+\n",
            "|summary|    Country| Age 0 to 14 Years|Age 15 to 64 Years|Age above 65 Years|\n",
            "+-------+-----------+------------------+------------------+------------------+\n",
            "|  count|        191|               191|               191|               191|\n",
            "|   mean|       null| 27.64722510532559|63.622617751515975| 8.780104712041885|\n",
            "| stddev|       null|10.535807221661532| 6.584602865457367| 6.154486766367989|\n",
            "|    min|Afghanistan|              11.5|              47.2|               1.0|\n",
            "|    max|   Zimbabwe|              50.2|              85.0|              27.0|\n",
            "+-------+-----------+------------------+------------------+------------------+\n",
            "\n"
          ]
        }
      ]
    },
    {
      "cell_type": "code",
      "source": [
        "\n",
        "# Eliminar filas donde el país tiene paréntesis (ej. territorios)\n",
        "df_Coutries_age_structure = df_Coutries_age_structure.filter(~col(\"Country\").rlike(r'\\(|\\)'))\n"
      ],
      "metadata": {
        "id": "5u54JgzeKI7D"
      },
      "execution_count": null,
      "outputs": []
    },
    {
      "cell_type": "code",
      "source": [
        "\n",
        "# Eliminar espacios en blanco de columnas de texto\n",
        "df_Coutries_age_structure = df_Coutries_age_structure.select([trim(col(c)).alias(c) if df_Coutries_age_structure.schema[c].dataType == \"StringType\" else col(c) for c in df_Coutries_age_structure.columns])\n"
      ],
      "metadata": {
        "id": "2PXN2-yAKI95"
      },
      "execution_count": null,
      "outputs": []
    },
    {
      "cell_type": "code",
      "source": [
        "\n",
        "# Verificar cuántos países quedaron después de la eliminación\n",
        "print(f\"Número de filas después de la eliminación: {df_Coutries_age_structure.count()}\")\n",
        "df_Coutries_age_structure.printSchema()\n"
      ],
      "metadata": {
        "colab": {
          "base_uri": "https://localhost:8080/"
        },
        "id": "9EqnyAfBKJAS",
        "outputId": "83b0f489-fc73-4e90-ae0a-ecc66fa87252"
      },
      "execution_count": null,
      "outputs": [
        {
          "output_type": "stream",
          "name": "stdout",
          "text": [
            "Número de filas después de la eliminación: 186\n",
            "root\n",
            " |-- Country: string (nullable = true)\n",
            " |-- Age 0 to 14 Years: float (nullable = true)\n",
            " |-- Age 15 to 64 Years: float (nullable = true)\n",
            " |-- Age above 65 Years: float (nullable = true)\n",
            "\n"
          ]
        }
      ]
    },
    {
      "cell_type": "code",
      "source": [
        "\n",
        "# Estadísticas descriptivas finales\n",
        "df_Coutries_age_structure.describe().show()\n"
      ],
      "metadata": {
        "colab": {
          "base_uri": "https://localhost:8080/"
        },
        "id": "el0tMPn1KnQe",
        "outputId": "874763c6-7b26-4e61-a000-50d6c55b00fc"
      },
      "execution_count": null,
      "outputs": [
        {
          "output_type": "stream",
          "name": "stdout",
          "text": [
            "+-------+-----------+------------------+------------------+------------------+\n",
            "|summary|    Country| Age 0 to 14 Years|Age 15 to 64 Years|Age above 65 Years|\n",
            "+-------+-----------+------------------+------------------+------------------+\n",
            "|  count|        186|               186|               186|               186|\n",
            "|   mean|       null| 27.75709674178913|63.598494580996935| 8.693548387096774|\n",
            "| stddev|       null|10.588481760691469| 6.646668062790967| 6.151041334851478|\n",
            "|    min|Afghanistan|              11.5|              47.2|               1.0|\n",
            "|    max|   Zimbabwe|              50.2|              85.0|              27.0|\n",
            "+-------+-----------+------------------+------------------+------------------+\n",
            "\n"
          ]
        }
      ]
    },
    {
      "cell_type": "code",
      "source": [
        "\n",
        "# Guardar el dataset refinado en la carpeta RefinedData\n",
        "df_Coutries_age_structure.write.csv(RefinedOutput +\"/RefData_Coutries_age_structure.csv\", header=True)"
      ],
      "metadata": {
        "id": "ZKoohPM-KnUg"
      },
      "execution_count": null,
      "outputs": []
    },
    {
      "cell_type": "markdown",
      "source": [
        "////////////////////////////////////////////////////\n",
        "Crime_index_by_countries_2020.csv\n",
        "////////////////////////////////////////////////////"
      ],
      "metadata": {
        "id": "rpLULlOULPP6"
      }
    },
    {
      "cell_type": "code",
      "source": [
        "\n",
        "from pyspark.sql.functions import col, regexp_replace, trim\n",
        "\n",
        "\n",
        "\n",
        "# Visualizar las primeras 10 líneas\n",
        "df_Crime_index_by_countries_2020.show(10)\n"
      ],
      "metadata": {
        "colab": {
          "base_uri": "https://localhost:8080/"
        },
        "id": "qexRFJ4LLN0J",
        "outputId": "4d2862f2-75a6-4764-b0e7-4b26b635f096"
      },
      "execution_count": null,
      "outputs": [
        {
          "output_type": "stream",
          "name": "stdout",
          "text": [
            "+-------------------+-----------+------------+\n",
            "|            Country|Crime Index|Safety Index|\n",
            "+-------------------+-----------+------------+\n",
            "|          Venezuela|      84.49|       15.51|\n",
            "|   Papua New Guinea|      81.93|       18.07|\n",
            "|       South Africa|      77.49|       22.51|\n",
            "|        Afghanistan|      76.23|       23.77|\n",
            "|           Honduras|      76.11|       23.89|\n",
            "|Trinidad And Tobago|      73.19|       26.81|\n",
            "|             Brazil|      68.88|       31.12|\n",
            "|               Peru|      68.15|       31.85|\n",
            "|        El Salvador|      67.96|       32.04|\n",
            "|             Guyana|      67.66|       32.34|\n",
            "+-------------------+-----------+------------+\n",
            "only showing top 10 rows\n",
            "\n"
          ]
        }
      ]
    },
    {
      "cell_type": "code",
      "source": [
        "\n",
        "# Forma del dataset: número de filas y columnas\n",
        "row_count = df_Crime_index_by_countries_2020.count()\n",
        "column_count = len(df_Crime_index_by_countries_2020.columns)\n",
        "print(f\"El dataset tiene {row_count} filas y {column_count} columnas.\")\n"
      ],
      "metadata": {
        "colab": {
          "base_uri": "https://localhost:8080/"
        },
        "id": "R59v2ua1LpdM",
        "outputId": "40619860-e7d0-4014-ff42-2544c8747f82"
      },
      "execution_count": null,
      "outputs": [
        {
          "output_type": "stream",
          "name": "stdout",
          "text": [
            "El dataset tiene 129 filas y 3 columnas.\n"
          ]
        }
      ]
    },
    {
      "cell_type": "code",
      "source": [
        "\n",
        "# Información del dataset: columnas, contenidos no nulos y tipos de datos\n",
        "df_Crime_index_by_countries_2020.printSchema()\n"
      ],
      "metadata": {
        "colab": {
          "base_uri": "https://localhost:8080/"
        },
        "id": "JleQlPAJLpln",
        "outputId": "f0dc32e5-2e23-468b-fbd2-8e72855e3fb5"
      },
      "execution_count": null,
      "outputs": [
        {
          "output_type": "stream",
          "name": "stdout",
          "text": [
            "root\n",
            " |-- Country: string (nullable = true)\n",
            " |-- Crime Index: double (nullable = true)\n",
            " |-- Safety Index: double (nullable = true)\n",
            "\n"
          ]
        }
      ]
    },
    {
      "cell_type": "code",
      "source": [
        "\n",
        "# Verificar si existen duplicados en la columna 'Country'\n",
        "has_duplicates = df_Crime_index_by_countries_2020.select(\"Country\").distinct().count() < df_Crime_index_by_countries_2020.count()\n",
        "print(f\"¿Existen duplicados en la columna 'Country'? {has_duplicates}\")\n"
      ],
      "metadata": {
        "colab": {
          "base_uri": "https://localhost:8080/"
        },
        "id": "K9SdblK7Lppn",
        "outputId": "0921f858-f3eb-44d7-f51b-72c199a77c6f"
      },
      "execution_count": null,
      "outputs": [
        {
          "output_type": "stream",
          "name": "stdout",
          "text": [
            "¿Existen duplicados en la columna 'Country'? False\n"
          ]
        }
      ]
    },
    {
      "cell_type": "code",
      "source": [
        "\n",
        "# Estadísticas descriptivas\n",
        "df_Crime_index_by_countries_2020.describe().show()\n"
      ],
      "metadata": {
        "colab": {
          "base_uri": "https://localhost:8080/"
        },
        "id": "P8iG9zP4LpuH",
        "outputId": "d39aa42a-6ccc-43e2-f776-9ea3919158f1"
      },
      "execution_count": null,
      "outputs": [
        {
          "output_type": "stream",
          "name": "stdout",
          "text": [
            "+-------+-----------+------------------+------------------+\n",
            "|summary|    Country|       Crime Index|      Safety Index|\n",
            "+-------+-----------+------------------+------------------+\n",
            "|  count|        129|               129|               129|\n",
            "|   mean|       null| 44.22248062015505| 55.77751937984494|\n",
            "| stddev|       null|15.690481441337273|15.690481441337274|\n",
            "|    min|Afghanistan|             11.86|             15.51|\n",
            "|    max|   Zimbabwe|             84.49|             88.14|\n",
            "+-------+-----------+------------------+------------------+\n",
            "\n"
          ]
        }
      ]
    },
    {
      "cell_type": "code",
      "source": [
        "\n",
        "# Filtrar filas donde 'Country' tiene paréntesis (ej., Kosovo)\n",
        "df_Crime_index_by_countries_2020 = df_Crime_index_by_countries_2020.filter(~col(\"Country\").rlike(r'\\(|\\)'))\n"
      ],
      "metadata": {
        "id": "FdzlErGFLpxX"
      },
      "execution_count": null,
      "outputs": []
    },
    {
      "cell_type": "code",
      "source": [
        "\n",
        "# Aplicar `trim` para eliminar espacios en blanco de columnas de texto\n",
        "df_Crime_index_by_countries_2020 = df_Crime_index_by_countries_2020.select([trim(col(c)).alias(c) if df_Crime_index_by_countries_2020.schema[c].dataType == \"StringType\" else col(c) for c in df_Crime_index_by_countries_2020.columns])\n",
        "\n",
        "# Ver cuántos países quedaron luego del filtrado\n",
        "print(f\"Número de filas después del filtrado: {df_Crime_index_by_countries_2020.count()}\")\n",
        "df_Crime_index_by_countries_2020.printSchema()\n"
      ],
      "metadata": {
        "colab": {
          "base_uri": "https://localhost:8080/"
        },
        "id": "mNROMFTlLp0f",
        "outputId": "b689be00-c65f-4313-dcc4-818f0106ec2c"
      },
      "execution_count": null,
      "outputs": [
        {
          "output_type": "stream",
          "name": "stdout",
          "text": [
            "Número de filas después del filtrado: 128\n",
            "root\n",
            " |-- Country: string (nullable = true)\n",
            " |-- Crime Index: double (nullable = true)\n",
            " |-- Safety Index: double (nullable = true)\n",
            "\n"
          ]
        }
      ]
    },
    {
      "cell_type": "code",
      "source": [
        "\n",
        "# Estadísticas descriptivas finales\n",
        "df_Crime_index_by_countries_2020.describe().show()\n"
      ],
      "metadata": {
        "colab": {
          "base_uri": "https://localhost:8080/"
        },
        "id": "0cW8ELLVLp3U",
        "outputId": "4d72adea-61ab-4420-f003-b03280629c34"
      },
      "execution_count": null,
      "outputs": [
        {
          "output_type": "stream",
          "name": "stdout",
          "text": [
            "+-------+-----------+------------------+------------------+\n",
            "|summary|    Country|       Crime Index|      Safety Index|\n",
            "+-------+-----------+------------------+------------------+\n",
            "|  count|        128|               128|               128|\n",
            "|   mean|       null|44.310859375000014| 55.68914062499998|\n",
            "| stddev|       null|15.719866212657415|15.719866212657417|\n",
            "|    min|Afghanistan|             11.86|             15.51|\n",
            "|    max|   Zimbabwe|             84.49|             88.14|\n",
            "+-------+-----------+------------------+------------------+\n",
            "\n"
          ]
        }
      ]
    },
    {
      "cell_type": "code",
      "source": [
        "\n",
        "# Guardar la tabla resultante en la carpeta RefinedData\n",
        "df_Crime_index_by_countries_2020.write.csv(RefinedOutput +\"/RefData_Crime_index_by_countries_2020.csv\", header=True)"
      ],
      "metadata": {
        "id": "s7_cSF-7Pi7_"
      },
      "execution_count": null,
      "outputs": []
    },
    {
      "cell_type": "markdown",
      "source": [
        "////////////////////////////////////////////////////\n",
        "Health_care_index_by_countries_2020.csv\n",
        "////////////////////////////////////////////////////"
      ],
      "metadata": {
        "id": "l-jVo6VmP0LL"
      }
    },
    {
      "cell_type": "code",
      "source": [
        "from pyspark.sql import SparkSession\n",
        "from pyspark.sql.functions import trim\n",
        "\n",
        "\n",
        "\n",
        "# Visualizar las primeras 10 líneas\n",
        "df_Health_care_index_by_countries_2020.show(10)\n"
      ],
      "metadata": {
        "colab": {
          "base_uri": "https://localhost:8080/"
        },
        "id": "-fTKTeGaP99j",
        "outputId": "6edb330d-51c3-45c0-8231-2b7f42417e90"
      },
      "execution_count": null,
      "outputs": [
        {
          "output_type": "stream",
          "name": "stdout",
          "text": [
            "+-----------+-----------------+----------------------+\n",
            "|    Country|Health Care Index|Health Care Exp. Index|\n",
            "+-----------+-----------------+----------------------+\n",
            "|     Taiwan|            86.71|                159.66|\n",
            "|South Korea|            81.97|                149.94|\n",
            "|      Japan|            81.14|                148.24|\n",
            "|    Denmark|             80.0|                147.47|\n",
            "|     France|            79.99|                146.81|\n",
            "|      Spain|            78.88|                145.24|\n",
            "|    Austria|            78.73|                144.24|\n",
            "|   Thailand|            77.95|                142.04|\n",
            "|  Australia|            77.38|                140.97|\n",
            "|    Finland|            75.79|                138.01|\n",
            "+-----------+-----------------+----------------------+\n",
            "only showing top 10 rows\n",
            "\n"
          ]
        }
      ]
    },
    {
      "cell_type": "code",
      "source": [
        "\n",
        "# Forma del dataset: número de filas y columnas\n",
        "row_count = df_Health_care_index_by_countries_2020.count()\n",
        "column_count = len(df_Health_care_index_by_countries_2020.columns)\n",
        "print(f\"El dataset tiene {row_count} filas y {column_count} columnas.\")\n"
      ],
      "metadata": {
        "colab": {
          "base_uri": "https://localhost:8080/"
        },
        "id": "qGjiH5gxP-Ba",
        "outputId": "15d644ee-7b84-4ddb-90b9-1dcafa051ff7"
      },
      "execution_count": null,
      "outputs": [
        {
          "output_type": "stream",
          "name": "stdout",
          "text": [
            "El dataset tiene 93 filas y 3 columnas.\n"
          ]
        }
      ]
    },
    {
      "cell_type": "code",
      "source": [
        "\n",
        "# Información del dataset: columnas, contenidos no nulos y tipos de datos\n",
        "df_Health_care_index_by_countries_2020.printSchema()\n"
      ],
      "metadata": {
        "colab": {
          "base_uri": "https://localhost:8080/"
        },
        "id": "fW8DC0GwP-Eb",
        "outputId": "1c375e99-cbb3-4787-85e9-5cb9bc7290c4"
      },
      "execution_count": null,
      "outputs": [
        {
          "output_type": "stream",
          "name": "stdout",
          "text": [
            "root\n",
            " |-- Country: string (nullable = true)\n",
            " |-- Health Care Index: double (nullable = true)\n",
            " |-- Health Care Exp. Index: double (nullable = true)\n",
            "\n"
          ]
        }
      ]
    },
    {
      "cell_type": "code",
      "source": [
        "\n",
        "# Verificar si existen duplicados en la columna 'Country'\n",
        "has_duplicates = df_Health_care_index_by_countries_2020.select(\"Country\").distinct().count() < df_Health_care_index_by_countries_2020.count()\n",
        "print(f\"¿Existen duplicados en la columna 'Country'? {has_duplicates}\")\n"
      ],
      "metadata": {
        "colab": {
          "base_uri": "https://localhost:8080/"
        },
        "id": "q61Bk-oOP-Hl",
        "outputId": "fbfe749a-7d4d-4c9e-e1c4-5598913422f3"
      },
      "execution_count": null,
      "outputs": [
        {
          "output_type": "stream",
          "name": "stdout",
          "text": [
            "¿Existen duplicados en la columna 'Country'? False\n"
          ]
        }
      ]
    },
    {
      "cell_type": "code",
      "source": [
        "\n",
        "# Estadísticas descriptivas\n",
        "df_Health_care_index_by_countries_2020.describe().show()\n"
      ],
      "metadata": {
        "colab": {
          "base_uri": "https://localhost:8080/"
        },
        "id": "ztjZnqXDP-Ka",
        "outputId": "799a8661-4e20-46c3-a377-97c93e450fde"
      },
      "execution_count": null,
      "outputs": [
        {
          "output_type": "stream",
          "name": "stdout",
          "text": [
            "+-------+-------+------------------+----------------------+\n",
            "|summary|Country| Health Care Index|Health Care Exp. Index|\n",
            "+-------+-------+------------------+----------------------+\n",
            "|  count|     93|                93|                    93|\n",
            "|   mean|   null| 63.41419354838709|     114.1974193548387|\n",
            "| stddev|   null|10.317795657164439|     20.35005602509253|\n",
            "|    min|Albania|             39.66|                 69.14|\n",
            "|    max|Vietnam|             86.71|                159.66|\n",
            "+-------+-------+------------------+----------------------+\n",
            "\n"
          ]
        }
      ]
    },
    {
      "cell_type": "code",
      "source": [
        "from pyspark.sql.functions import col\n",
        "\n",
        "# Renombrar todas las columnas para reemplazar espacios y puntos\n",
        "df_Health_care_index_by_countries_2020 = df_Health_care_index_by_countries_2020.select(\n",
        "    [col(f\"`{c}`\").alias(c.replace(\" \", \"_\").replace(\".\", \"_\")) for c in df_Health_care_index_by_countries_2020.columns]\n",
        ")\n",
        "\n",
        "# Verificar el esquema actualizado\n",
        "df_Health_care_index_by_countries_2020.printSchema()\n",
        "\n",
        "# Mostrar las primeras líneas para confirmar\n",
        "df_Health_care_index_by_countries_2020.show(10)"
      ],
      "metadata": {
        "colab": {
          "base_uri": "https://localhost:8080/"
        },
        "id": "KS3GDHHLTBUZ",
        "outputId": "b110b686-58d4-452a-c9c0-76e0a4b20f49"
      },
      "execution_count": null,
      "outputs": [
        {
          "output_type": "stream",
          "name": "stdout",
          "text": [
            "root\n",
            " |-- Country: string (nullable = true)\n",
            " |-- Health_Care_Index: double (nullable = true)\n",
            " |-- Health_Care_Exp__Index: double (nullable = true)\n",
            "\n",
            "+-----------+-----------------+----------------------+\n",
            "|    Country|Health_Care_Index|Health_Care_Exp__Index|\n",
            "+-----------+-----------------+----------------------+\n",
            "|     Taiwan|            86.71|                159.66|\n",
            "|South Korea|            81.97|                149.94|\n",
            "|      Japan|            81.14|                148.24|\n",
            "|    Denmark|             80.0|                147.47|\n",
            "|     France|            79.99|                146.81|\n",
            "|      Spain|            78.88|                145.24|\n",
            "|    Austria|            78.73|                144.24|\n",
            "|   Thailand|            77.95|                142.04|\n",
            "|  Australia|            77.38|                140.97|\n",
            "|    Finland|            75.79|                138.01|\n",
            "+-----------+-----------------+----------------------+\n",
            "only showing top 10 rows\n",
            "\n"
          ]
        }
      ]
    },
    {
      "cell_type": "code",
      "source": [
        "\n",
        "# Eliminar espacios en blanco en las columnas de texto\n",
        "df_Health_care_index_by_countries_2020 = df_Health_care_index_by_countries_2020.select([trim(col(c)).alias(c) if df_Health_care_index_by_countries_2020.schema[c].dataType == \"StringType\" else col(c) for c in df_Health_care_index_by_countries_2020.columns])\n",
        "\n",
        "# Información del dataset después de la limpieza\n",
        "df_Health_care_index_by_countries_2020.printSchema()\n",
        "print(f\"Número de filas después de la limpieza: {df_Health_care_index_by_countries_2020.count()}\")\n"
      ],
      "metadata": {
        "colab": {
          "base_uri": "https://localhost:8080/"
        },
        "id": "d3stw2Z6P-NO",
        "outputId": "f5cb1111-9fa3-467d-dbe7-e967715fabcc"
      },
      "execution_count": null,
      "outputs": [
        {
          "output_type": "stream",
          "name": "stdout",
          "text": [
            "root\n",
            " |-- Country: string (nullable = true)\n",
            " |-- Health_Care_Index: double (nullable = true)\n",
            " |-- Health_Care_Exp__Index: double (nullable = true)\n",
            "\n",
            "Número de filas después de la limpieza: 93\n"
          ]
        }
      ]
    },
    {
      "cell_type": "code",
      "source": [
        "\n",
        "# Guardar la tabla resultante en la carpeta RefinedData\n",
        "df_Health_care_index_by_countries_2020.write.csv(RefinedOutput +\"/RefData_Health_care_index_by_countries_2020.csv\", header=True)"
      ],
      "metadata": {
        "id": "qS8ZjTd2P-QA"
      },
      "execution_count": null,
      "outputs": []
    },
    {
      "cell_type": "markdown",
      "source": [
        "////////////////////////////////////////////////////\n",
        "Properties_price_index_by_countries_2020.csv\n",
        "////////////////////////////////////////////////////"
      ],
      "metadata": {
        "id": "w2rNQBiHT6qs"
      }
    },
    {
      "cell_type": "code",
      "source": [
        "from pyspark.sql.functions import col, trim\n",
        "\n",
        "# Visualización de las primeras 10 líneas del archivo\n",
        "df_Properties_price_index_by_countries_2020.show(10)\n"
      ],
      "metadata": {
        "colab": {
          "base_uri": "https://localhost:8080/"
        },
        "id": "b6bdPPZfP-Sz",
        "outputId": "c384ba36-a950-4b7c-8894-6eab9711782e"
      },
      "execution_count": null,
      "outputs": [
        {
          "output_type": "stream",
          "name": "stdout",
          "text": [
            "+-----------+---------------------+------------------------------+------------------------------------+-------------------------------+------------------------------------------+----------------------------------+-------------------+\n",
            "|    Country|Price To Income Ratio|Gross Rental Yield City Centre|Gross Rental Yield Outside of Centre|Price To Rent Ratio City Centre|Price To Rent Ratio Outside Of City Centre|Mortgage As A Percentage Of Income|Affordability Index|\n",
            "+-----------+---------------------+------------------------------+------------------------------------+-------------------------------+------------------------------------------+----------------------------------+-------------------+\n",
            "|  Venezuela|               133.29|                          6.22|                                6.45|                          16.08|                                     15.49|                           3025.03|               0.03|\n",
            "|      Syria|                60.83|                          2.71|                                 3.0|                          36.93|                                     33.29|                            662.83|               0.15|\n",
            "|  Hong Kong|                47.46|                          1.77|                                1.83|                          56.45|                                     54.74|                            303.35|               0.33|\n",
            "|   Cambodia|                42.33|                          4.78|                                 6.2|                          20.93|                                     16.13|                            479.45|               0.21|\n",
            "|      Kenya|                31.63|                          2.15|                                4.07|                          46.56|                                     24.54|                            472.19|               0.21|\n",
            "|  Sri Lanka|                31.14|                          2.88|                                2.36|                          34.76|                                     42.32|                            478.77|               0.21|\n",
            "|      China|                29.06|                          1.71|                                1.91|                          58.34|                                     52.38|                            231.68|               0.43|\n",
            "|       Iran|                25.11|                          4.92|                                5.43|                          20.33|                                     18.41|                            515.47|               0.19|\n",
            "|      Nepal|                24.74|                          2.57|                                3.23|                           38.9|                                     30.95|                            314.15|               0.32|\n",
            "|Philippines|                 24.6|                          3.44|                                3.95|                          29.04|                                     25.35|                            237.12|               0.42|\n",
            "+-----------+---------------------+------------------------------+------------------------------------+-------------------------------+------------------------------------------+----------------------------------+-------------------+\n",
            "only showing top 10 rows\n",
            "\n"
          ]
        }
      ]
    },
    {
      "cell_type": "code",
      "source": [
        "\n",
        "# Forma del dataset (número de filas y columnas)\n",
        "print(f\"Shape: ({df_Properties_price_index_by_countries_2020.count()}, {len(df_Properties_price_index_by_countries_2020.columns)})\")\n"
      ],
      "metadata": {
        "colab": {
          "base_uri": "https://localhost:8080/"
        },
        "id": "ScZrTSkaP-Va",
        "outputId": "e6ac84fb-f08d-40c8-9f4f-e149028485df"
      },
      "execution_count": null,
      "outputs": [
        {
          "output_type": "stream",
          "name": "stdout",
          "text": [
            "Shape: (104, 8)\n"
          ]
        }
      ]
    },
    {
      "cell_type": "code",
      "source": [
        "\n",
        "# Identificación de columnas, contenidos no nulos y tipo de dato\n",
        "df_Properties_price_index_by_countries_2020.printSchema()\n"
      ],
      "metadata": {
        "colab": {
          "base_uri": "https://localhost:8080/"
        },
        "id": "4RKKwXU5WghZ",
        "outputId": "31747ed8-9016-451e-87a4-711a9e31d6b4"
      },
      "execution_count": null,
      "outputs": [
        {
          "output_type": "stream",
          "name": "stdout",
          "text": [
            "root\n",
            " |-- Country: string (nullable = true)\n",
            " |-- Price To Income Ratio: double (nullable = true)\n",
            " |-- Gross Rental Yield City Centre: double (nullable = true)\n",
            " |-- Gross Rental Yield Outside of Centre: double (nullable = true)\n",
            " |-- Price To Rent Ratio City Centre: double (nullable = true)\n",
            " |-- Price To Rent Ratio Outside Of City Centre: double (nullable = true)\n",
            " |-- Mortgage As A Percentage Of Income: double (nullable = true)\n",
            " |-- Affordability Index: double (nullable = true)\n",
            "\n"
          ]
        }
      ]
    },
    {
      "cell_type": "code",
      "source": [
        "\n",
        "# Verificar duplicados en la columna \"Country\"\n",
        "has_duplicates = df_Properties_price_index_by_countries_2020.select(\"Country\").distinct().count() < df_Properties_price_index_by_countries_2020.count()\n",
        "print(f\"Duplicados en la columna 'Country': {has_duplicates}\")\n"
      ],
      "metadata": {
        "colab": {
          "base_uri": "https://localhost:8080/"
        },
        "id": "dVDhmy9HWgkw",
        "outputId": "20e5a47b-34a6-414f-e11a-eaadf0dd3c5d"
      },
      "execution_count": null,
      "outputs": [
        {
          "output_type": "stream",
          "name": "stdout",
          "text": [
            "Duplicados en la columna 'Country': False\n"
          ]
        }
      ]
    },
    {
      "cell_type": "code",
      "source": [
        "\n",
        "# Estadísticas descriptivas de las columnas numéricas\n",
        "df_Properties_price_index_by_countries_2020.describe().show()\n"
      ],
      "metadata": {
        "colab": {
          "base_uri": "https://localhost:8080/"
        },
        "id": "zliWVIgaWgn1",
        "outputId": "8bd0e9be-920d-4027-d053-2e8b8a859bed"
      },
      "execution_count": null,
      "outputs": [
        {
          "output_type": "stream",
          "name": "stdout",
          "text": [
            "+-------+-------+---------------------+------------------------------+------------------------------------+-------------------------------+------------------------------------------+----------------------------------+-------------------+\n",
            "|summary|Country|Price_To_Income_Ratio|Gross_Rental_Yield_City_Centre|Gross_Rental_Yield_Outside_of_Centre|Price_To_Rent_Ratio_City_Centre|Price_To_Rent_Ratio_Outside_Of_City_Centre|Mortgage_As_A_Percentage_Of_Income|Affordability_Index|\n",
            "+-------+-------+---------------------+------------------------------+------------------------------------+-------------------------------+------------------------------------------+----------------------------------+-------------------+\n",
            "|  count|    103|                  103|                           103|                                 103|                            103|                                       103|                               103|                103|\n",
            "|   mean|   null|   14.870097087378639|             4.841941747572816|                   5.166893203883493|              24.64407766990292|                         22.49815533980582|                170.42815533980578| 1.1554368932038837|\n",
            "| stddev|   null|    14.62698007344349|             2.001456850892657|                  1.9217802353017628|             11.668930461338578|                        10.110036146206093|                 317.4764908812149| 0.7880489393320762|\n",
            "|    min|Albania|                10.08|                          1.38|                                 1.5|                          10.15|                                      11.0|                            100.09|               0.03|\n",
            "|    max|Vietnam|                 9.94|                          9.85|                                9.09|                           9.67|                                      9.71|                             99.66|               4.85|\n",
            "+-------+-------+---------------------+------------------------------+------------------------------------+-------------------------------+------------------------------------------+----------------------------------+-------------------+\n",
            "\n"
          ]
        }
      ]
    },
    {
      "cell_type": "code",
      "source": [
        "\n",
        "# Eliminar filas que contienen paréntesis en la columna \"Country\" (territorios)\n",
        "df_Properties_price_index_by_countries_2020 = df_Properties_price_index_by_countries_2020.filter(~col(\"Country\").rlike(r\"\\(|\\)\"))\n",
        "\n",
        "# Eliminar espacios en los textos de todas las columnas de tipo string\n",
        "df_Properties_price_index_by_countries_2020 = df_Properties_price_index_by_countries_2020.select(\n",
        "    [trim(col(c)).alias(c.replace(\" \", \"_\").replace(\".\", \"_\")) for c in df_Properties_price_index_by_countries_2020.columns]\n",
        ")\n",
        "\n",
        "# Convertir las columnas numéricas de string a double\n",
        "numeric_columns = [\n",
        "    \"Price_To_Income_Ratio\",\n",
        "    \"Gross_Rental_Yield_City_Centre\",\n",
        "    \"Gross_Rental_Yield_Outside_of_Centre\",\n",
        "    \"Price_To_Rent_Ratio_City_Centre\",\n",
        "    \"Price_To_Rent_Ratio_Outside_Of_City_Centre\",\n",
        "    \"Mortgage_As_A_Percentage_Of_Income\",\n",
        "    \"Affordability_Index\"\n",
        "]\n",
        "\n",
        "for col_name in numeric_columns:\n",
        "    df_Properties_price_index_by_countries_2020 = df_Properties_price_index_by_countries_2020.withColumn(col_name, col(col_name).cast(\"double\"))\n",
        "\n",
        "# Información del dataset después de la limpieza y conversión\n",
        "df_Properties_price_index_by_countries_2020.printSchema()"
      ],
      "metadata": {
        "colab": {
          "base_uri": "https://localhost:8080/"
        },
        "id": "roJVuGqWW_v8",
        "outputId": "b3740829-5404-417b-e085-aa55813c0b5e"
      },
      "execution_count": null,
      "outputs": [
        {
          "output_type": "stream",
          "name": "stdout",
          "text": [
            "root\n",
            " |-- Country: string (nullable = true)\n",
            " |-- Price_To_Income_Ratio: double (nullable = true)\n",
            " |-- Gross_Rental_Yield_City_Centre: double (nullable = true)\n",
            " |-- Gross_Rental_Yield_Outside_of_Centre: double (nullable = true)\n",
            " |-- Price_To_Rent_Ratio_City_Centre: double (nullable = true)\n",
            " |-- Price_To_Rent_Ratio_Outside_Of_City_Centre: double (nullable = true)\n",
            " |-- Mortgage_As_A_Percentage_Of_Income: double (nullable = true)\n",
            " |-- Affordability_Index: double (nullable = true)\n",
            "\n"
          ]
        }
      ]
    },
    {
      "cell_type": "code",
      "source": [
        "\n",
        "# Verificación final: número de filas y columnas\n",
        "print(f\"Shape final: ({df_Properties_price_index_by_countries_2020.count()}, {len(df_Properties_price_index_by_countries_2020.columns)})\")\n"
      ],
      "metadata": {
        "colab": {
          "base_uri": "https://localhost:8080/"
        },
        "id": "M6iokF6TW_zu",
        "outputId": "5ccba262-7b83-4927-9148-8ca44b93c6e9"
      },
      "execution_count": null,
      "outputs": [
        {
          "output_type": "stream",
          "name": "stdout",
          "text": [
            "Shape final: (103, 8)\n"
          ]
        }
      ]
    },
    {
      "cell_type": "code",
      "source": [
        "\n",
        "# Guardar la tabla resultante en la carpeta RefinedData\n",
        "df_Properties_price_index_by_countries_2020.write.csv(RefinedOutput +\"/RefData_Properties_price_index_by_countries_2020.csv\", header=True)\n"
      ],
      "metadata": {
        "id": "S20ik1txW_3G"
      },
      "execution_count": null,
      "outputs": []
    },
    {
      "cell_type": "markdown",
      "source": [
        "////////////////////////////////////////////////////\n",
        "Pupulation_density_by_countries.csv\n",
        "////////////////////////////////////////////////////"
      ],
      "metadata": {
        "id": "2ehhgSESY_aq"
      }
    },
    {
      "cell_type": "code",
      "source": [
        "from pyspark.sql.functions import col, trim, regexp_replace, to_date, dayofmonth, month, year\n",
        "\n",
        "# Visualización de las primeras 10 líneas del archivo\n",
        "df_Pupulation_density_by_countries.show(10)\n"
      ],
      "metadata": {
        "colab": {
          "base_uri": "https://localhost:8080/"
        },
        "id": "qKNclllVWgp7",
        "outputId": "7f0a0d54-5f02-412e-c73e-0b198f5f64aa"
      },
      "execution_count": null,
      "outputs": [
        {
          "output_type": "stream",
          "name": "stdout",
          "text": [
            "+----+--------------------------------+--------+--------+----------+----------------+----------------+------------------+--------------------+\n",
            "|Rank|Country (or dependent territory)|Area km2|Area mi2|Population|Density pop./km2|Density pop./mi2|              Date|   Population source|\n",
            "+----+--------------------------------+--------+--------+----------+----------------+----------------+------------------+--------------------+\n",
            "|   –|                           Macau|   32.90|      13|  6,76,100|          20,550|          53,224|September 30, 2019|Official quarterl...|\n",
            "|   1|                          Monaco|    2.02|    0.78|    38,300|          18,960|          49,106| December 31, 2018|   Official estimate|\n",
            "|   2|                       Singapore|   722.5|     279| 57,03,600|           7,894|          20,445|      July 1, 2019|   Official estimate|\n",
            "|   –|                       Hong Kong|   1,106|     427| 75,00,700|           6,782|          17,565| December 31, 2019|   Official estimate|\n",
            "|   –|                  Gibraltar (UK)|     6.8|     2.6|    33,701|           4,956|          12,836|      July 1, 2019|       UN projection|\n",
            "|   3|                    Vatican City|    0.44|    0.17|     1,000|           2,273|           5,887|      July 1, 2017|   Official estimate|\n",
            "|   4|                         Bahrain|     778|     300| 15,43,300|           1,983|           5,136|      July 1, 2019|Official annual p...|\n",
            "|   5|                           Malta|     315|     122|  4,93,559|           1,510|           3,911|     July 10, 2019|   Official estimate|\n",
            "|   6|                        Maldives|     298|     115|  3,74,775|           1,258|           3,258| December 31, 2018|   Official estimate|\n",
            "|   –|                    Bermuda (UK)|      52|      20|    64,027|           1,227|           3,178|      July 1, 2019| Official Projection|\n",
            "+----+--------------------------------+--------+--------+----------+----------------+----------------+------------------+--------------------+\n",
            "only showing top 10 rows\n",
            "\n"
          ]
        }
      ]
    },
    {
      "cell_type": "code",
      "source": [
        "\n",
        "# Forma del dataset con el objetivo de ver cuántos países están en la tabla y cuántas columnas\n",
        "print((df_Pupulation_density_by_countries.count(), len(df_Pupulation_density_by_countries.columns)))\n"
      ],
      "metadata": {
        "id": "ViEeUBgRZJ_l",
        "colab": {
          "base_uri": "https://localhost:8080/"
        },
        "outputId": "b802939a-73e5-4db7-889c-ac71db8f866c"
      },
      "execution_count": null,
      "outputs": [
        {
          "output_type": "stream",
          "name": "stdout",
          "text": [
            "(251, 9)\n"
          ]
        }
      ]
    },
    {
      "cell_type": "code",
      "source": [
        "\n",
        "# Rename columns to remove periods\n",
        "for column in df_Pupulation_density_by_countries.columns:\n",
        "    if \".\" in column:\n",
        "        new_column = column.replace(\".\", \"\")  # Remove periods from column name\n",
        "        df_Pupulation_density_by_countries = df_Pupulation_density_by_countries.withColumnRenamed(column, new_column)\n",
        "\n",
        "\n",
        "# Cantidad de valores nulos por columna\n",
        "df_Pupulation_density_by_countries.select(\n",
        "    [(col(c).isNull().cast(\"int\").alias(c)) for c in df_Pupulation_density_by_countries.columns]\n",
        ").agg(*[sum(col(c)).alias(c) for c in df_Pupulation_density_by_countries.columns]).show()\n"
      ],
      "metadata": {
        "id": "Qm3GtnEJZKD7",
        "colab": {
          "base_uri": "https://localhost:8080/"
        },
        "outputId": "9a09cbef-510f-41d8-ff6a-244588d3de63"
      },
      "execution_count": null,
      "outputs": [
        {
          "output_type": "stream",
          "name": "stdout",
          "text": [
            "+----+--------------------------------+--------+--------+----------+---------------+---------------+----+-----------------+\n",
            "|Rank|Country (or dependent territory)|Area km2|Area mi2|Population|Density pop/km2|Density pop/mi2|Date|Population source|\n",
            "+----+--------------------------------+--------+--------+----------+---------------+---------------+----+-----------------+\n",
            "|   0|                               0|       0|       0|         0|              0|              0|   0|                7|\n",
            "+----+--------------------------------+--------+--------+----------+---------------+---------------+----+-----------------+\n",
            "\n"
          ]
        }
      ]
    },
    {
      "cell_type": "code",
      "source": [
        "\n",
        "# Identificación de columnas, contenidos no nulos y tipo de dato\n",
        "df_Pupulation_density_by_countries.printSchema()\n"
      ],
      "metadata": {
        "id": "F37jskUfZKHl",
        "colab": {
          "base_uri": "https://localhost:8080/"
        },
        "outputId": "a60f9b3c-b03b-44bc-f9c3-574ba3e1c578"
      },
      "execution_count": null,
      "outputs": [
        {
          "output_type": "stream",
          "name": "stdout",
          "text": [
            "root\n",
            " |-- Rank: string (nullable = true)\n",
            " |-- Country (or dependent territory): string (nullable = true)\n",
            " |-- Area km2: string (nullable = true)\n",
            " |-- Area mi2: string (nullable = true)\n",
            " |-- Population: string (nullable = true)\n",
            " |-- Density pop/km2: string (nullable = true)\n",
            " |-- Density pop/mi2: string (nullable = true)\n",
            " |-- Date: string (nullable = true)\n",
            " |-- Population source: string (nullable = true)\n",
            "\n"
          ]
        }
      ]
    },
    {
      "cell_type": "code",
      "source": [
        "\n",
        "# Verificar duplicados en la columna 'Country (or dependent territory)'\n",
        "duplicated_countries = df_Pupulation_density_by_countries.select(\"Country (or dependent territory)\").distinct().count() != df_Pupulation_density_by_countries.count()\n",
        "print(f\"¿Hay duplicados en 'Country (or dependent territory)'? {duplicated_countries}\")\n"
      ],
      "metadata": {
        "id": "67SKKt7Q0qJl",
        "colab": {
          "base_uri": "https://localhost:8080/"
        },
        "outputId": "f69e455b-3ae3-478c-a7b8-2605dbe3caac"
      },
      "execution_count": null,
      "outputs": [
        {
          "output_type": "stream",
          "name": "stdout",
          "text": [
            "¿Hay duplicados en 'Country (or dependent territory)'? False\n"
          ]
        }
      ]
    },
    {
      "cell_type": "code",
      "source": [
        "\n",
        "# Métricas del dataset\n",
        "df_Pupulation_density_by_countries.describe().show()\n"
      ],
      "metadata": {
        "id": "Ro5etGMv0qOJ",
        "colab": {
          "base_uri": "https://localhost:8080/"
        },
        "outputId": "4d3ee8e3-15a3-4b39-d2a7-ac99582e885f"
      },
      "execution_count": null,
      "outputs": [
        {
          "output_type": "stream",
          "name": "stdout",
          "text": [
            "+-------+-----------------+--------------------------------+------------------+-----------------+-----------------+------------------+------------------+-----------------+------------------+\n",
            "|summary|             Rank|Country (or dependent territory)|          Area km2|         Area mi2|       Population|   Density pop/km2|   Density pop/mi2|             Date| Population source|\n",
            "+-------+-----------------+--------------------------------+------------------+-----------------+-----------------+------------------+------------------+-----------------+------------------+\n",
            "|  count|              251|                             251|               251|              251|              251|               251|               251|              251|               244|\n",
            "|   mean|             97.5|                            null|273.24413793103446|186.7694029850746|            300.0|143.34594142259414| 258.7576958525346|             null|              null|\n",
            "| stddev|56.14712815451918|                            null|236.72476011763655|  227.36118424137|345.0681092190352|169.35247049036462|243.04992778546165|             null|              null|\n",
            "|    min|                1|                        Abkhazia|              0.44|             0.17|         1,00,000|              0.03|              0.08|    April 1, 2019|2011 census result|\n",
            "|    max|                –|            Åland Islands (Fi...|         99,84,670|              998|        97,70,529|                99|               974|September 5, 2017|     census result|\n",
            "+-------+-----------------+--------------------------------+------------------+-----------------+-----------------+------------------+------------------+-----------------+------------------+\n",
            "\n"
          ]
        }
      ]
    },
    {
      "cell_type": "code",
      "source": [
        "\n",
        "# Eliminar filas con nulos en la columna 'Population source'\n",
        "df_Pupulation_density_by_countries_sinNan = df_Pupulation_density_by_countries.filter(col(\"Population source\").isNotNull())\n",
        "\n",
        "# Filas después de eliminar nulos\n",
        "print(f\"Filas después de eliminar nulos: {df_Pupulation_density_by_countries_sinNan.count()}\")\n"
      ],
      "metadata": {
        "id": "AHFow1lJ0qUj",
        "colab": {
          "base_uri": "https://localhost:8080/"
        },
        "outputId": "9aae1bdb-4daa-40e8-e2ae-32a2952a6b43"
      },
      "execution_count": null,
      "outputs": [
        {
          "output_type": "stream",
          "name": "stdout",
          "text": [
            "Filas después de eliminar nulos: 244\n"
          ]
        }
      ]
    },
    {
      "cell_type": "code",
      "source": [
        "\n",
        "# Convertir fechas al formato \"DD-MM-YYYY\" y agregar columnas Day, Month y Year\n",
        "df_Pupulation_density_by_countries_sinNan_fechas = (\n",
        "    df_Pupulation_density_by_countries_sinNan\n",
        "    .withColumn(\"Date\", to_date(col(\"Date\"), \"MMMM d, yyyy\"))\n",
        "    .withColumn(\"Day\", dayofmonth(col(\"Date\")))\n",
        "    .withColumn(\"Month\", month(col(\"Date\")))\n",
        "    .withColumn(\"Year\", year(col(\"Date\")))\n",
        ")\n",
        "\n",
        "# Limpiar columnas numéricas (población, densidad)\n",
        "columns_to_clean = [\"Population\", \"Density pop/km2\", \"Density pop/mi2\"]\n",
        "for col_name in columns_to_clean:\n",
        "    df_Pupulation_density_by_countries_sinNan_fechas = df_Pupulation_density_by_countries_sinNan_fechas.withColumn(\n",
        "        col_name, regexp_replace(col(col_name), \",\", \"\").cast(\"double\")\n",
        "    )\n",
        "\n",
        "# Limpiar columnas de área\n",
        "area_columns = [\"Area km2\", \"Area mi2\"]\n",
        "for col_name in area_columns:\n",
        "    df_Pupulation_density_by_countries_sinNan_fechas = df_Pupulation_density_by_countries_sinNan_fechas.withColumn(\n",
        "        col_name, regexp_replace(col(col_name), \",\", \"\").cast(\"double\")\n",
        "    )\n",
        "\n",
        "# Renombrar la columna 'Country (or dependent territory)' a 'Country'\n",
        "df_Pupulation_density_by_countries_sinNan_fechas_float_country = df_Pupulation_density_by_countries_sinNan_fechas.withColumnRenamed(\n",
        "    \"Country (or dependent territory)\", \"Country\"\n",
        ")\n",
        "\n",
        "# Reemplazar 'Uruguay[note 5]' por 'Uruguay'\n",
        "df_Pupulation_density_by_countries_sinNan_fechas_float_country = df_Pupulation_density_by_countries_sinNan_fechas_float_country.withColumn(\n",
        "    \"Country\", regexp_replace(col(\"Country\"), \"Uruguay\\\\[note 5\\\\]\", \"Uruguay\")\n",
        ")\n",
        "\n",
        "# Eliminar filas con paréntesis en 'Country'\n",
        "df_Pupulation_density_by_countries_sinNan_fechas_float_country = df_Pupulation_density_by_countries_sinNan_fechas_float_country.filter(\n",
        "    ~col(\"Country\").rlike(r\"\\(|\\)\")\n",
        ")\n",
        "\n",
        "# Eliminar espacios en todas las columnas tipo string\n",
        "df_Pupulation_density_by_countries_sinNan_fechas_float_country = df_Pupulation_density_by_countries_sinNan_fechas_float_country.select(\n",
        "    [trim(col(c)).alias(c) for c in df_Pupulation_density_by_countries_sinNan_fechas_float_country.columns]\n",
        ")\n"
      ],
      "metadata": {
        "id": "1KZGaFo2ZKJw"
      },
      "execution_count": null,
      "outputs": []
    },
    {
      "cell_type": "code",
      "source": [
        "\n",
        "# Métricas del DataFrame final\n",
        "df_Pupulation_density_by_countries_sinNan_fechas_float_country.describe().show()\n"
      ],
      "metadata": {
        "id": "NMpglOcm06jj",
        "colab": {
          "base_uri": "https://localhost:8080/"
        },
        "outputId": "a060fb66-f911-4613-f0ec-3dd70a2992d5"
      },
      "execution_count": null,
      "outputs": [
        {
          "output_type": "stream",
          "name": "stdout",
          "text": [
            "+-------+-----------------+-----------+-----------------+------------------+-------------------+-----------------+-----------------+----------+--------------------+------------------+------------------+------------------+\n",
            "|summary|             Rank|    Country|         Area km2|          Area mi2|         Population|  Density pop/km2|  Density pop/mi2|      Date|   Population source|               Day|             Month|              Year|\n",
            "+-------+-----------------+-----------+-----------------+------------------+-------------------+-----------------+-----------------+----------+--------------------+------------------+------------------+------------------+\n",
            "|  count|              201|        201|              201|               201|                201|              201|              201|       201|                 201|               201|               201|               201|\n",
            "|   mean|97.40932642487047|       null|665558.7306467661|256973.65149253732|3.794880363681592E7|437.2557213930348| 1132.48407960199|      null|                null| 7.965174129353234|6.1393034825870645|2018.7512437810944|\n",
            "| stddev| 56.2789121628291|       null|1892732.871559694| 730788.2597547618|1.425811457776818E8|2090.089437937907|5413.270892699282|      null|                null|11.302821819993772|2.9564332416677046|0.9684063946886083|\n",
            "|    min|                1|Afghanistan|             0.44|              0.17|       1.00138465E8|              1.9|             10.0|2015-01-24|  2018 Census Result|                 1|                 1|              2015|\n",
            "|    max|                –|   Zimbabwe|        9984670.0|             998.0|          9770529.0|             99.0|            974.0|2020-07-01|Weekly official e...|                 9|                 9|              2020|\n",
            "+-------+-----------------+-----------+-----------------+------------------+-------------------+-----------------+-----------------+----------+--------------------+------------------+------------------+------------------+\n",
            "\n"
          ]
        }
      ]
    },
    {
      "cell_type": "code",
      "source": [
        "\n",
        "# Información del dataset después de la limpieza\n",
        "df_Pupulation_density_by_countries_sinNan_fechas_float_country.printSchema()\n"
      ],
      "metadata": {
        "id": "qDeUqQ_S06tL",
        "colab": {
          "base_uri": "https://localhost:8080/"
        },
        "outputId": "063c52fd-3df2-44c4-d681-e7765de66f7f"
      },
      "execution_count": null,
      "outputs": [
        {
          "output_type": "stream",
          "name": "stdout",
          "text": [
            "root\n",
            " |-- Rank: string (nullable = true)\n",
            " |-- Country: string (nullable = true)\n",
            " |-- Area km2: string (nullable = true)\n",
            " |-- Area mi2: string (nullable = true)\n",
            " |-- Population: string (nullable = true)\n",
            " |-- Density pop/km2: string (nullable = true)\n",
            " |-- Density pop/mi2: string (nullable = true)\n",
            " |-- Date: string (nullable = true)\n",
            " |-- Population source: string (nullable = true)\n",
            " |-- Day: string (nullable = true)\n",
            " |-- Month: string (nullable = true)\n",
            " |-- Year: string (nullable = true)\n",
            "\n"
          ]
        }
      ]
    },
    {
      "cell_type": "code",
      "source": [
        "from pyspark.sql.functions import col, trim, regexp_replace, to_date, dayofmonth, month, year\n",
        "from pyspark.sql.types import IntegerType, FloatType, DateType\n",
        "\n",
        "# Rename columns to remove periods\n",
        "for column in df_Pupulation_density_by_countries_sinNan_fechas_float_country.columns:\n",
        "    if \".\" in column:\n",
        "        new_column = column.replace(\".\", \"\")  # Remove periods from column name\n",
        "        df_Pupulation_density_by_countries_sinNan_fechas_float_country = df_Pupulation_density_by_countries_sinNan_fechas_float_country.withColumnRenamed(column, new_column)\n",
        "\n",
        "# First, perform the data cleaning and transformations from cell 22\n",
        "# Including creating the 'Day', 'Month', and 'Year' columns\n",
        "\n",
        "# ... (Code from cell 22 to create and clean the DataFrame) ...\n",
        "\n",
        "\n",
        "# Then, cast columns to appropriate data types\n",
        "df_Pupulation_density_by_countries_sinNan_fechas_float_country = df_Pupulation_density_by_countries_sinNan_fechas_float_country.withColumn(\"Area km2\", col(\"Area km2\").cast(FloatType()))\n",
        "df_Pupulation_density_by_countries_sinNan_fechas_float_country = df_Pupulation_density_by_countries_sinNan_fechas_float_country.withColumn(\"Area mi2\", col(\"Area mi2\").cast(FloatType()))\n",
        "df_Pupulation_density_by_countries_sinNan_fechas_float_country = df_Pupulation_density_by_countries_sinNan_fechas_float_country.withColumn(\"Population\", col(\"Population\").cast(IntegerType()))\n",
        "df_Pupulation_density_by_countries_sinNan_fechas_float_country = df_Pupulation_density_by_countries_sinNan_fechas_float_country.withColumn(\"Density pop/km2\", col(\"Density pop/km2\").cast(FloatType()))\n",
        "df_Pupulation_density_by_countries_sinNan_fechas_float_country = df_Pupulation_density_by_countries_sinNan_fechas_float_country.withColumn(\"Density pop/mi2\", col(\"Density pop/mi2\").cast(FloatType()))\n",
        "df_Pupulation_density_by_countries_sinNan_fechas_float_country = df_Pupulation_density_by_countries_sinNan_fechas_float_country.withColumn(\"Date\", to_date(col(\"Date\"), \"yyyy-MM-dd\"))  # Assuming date format is yyyy-MM-dd\n",
        "# Now you can safely cast 'Day', 'Month', and 'Year' to IntegerType\n",
        "df_Pupulation_density_by_countries_sinNan_fechas_float_country = df_Pupulation_density_by_countries_sinNan_fechas_float_country.withColumn(\"Day\", col(\"Day\").cast(IntegerType()))\n",
        "df_Pupulation_density_by_countries_sinNan_fechas_float_country = df_Pupulation_density_by_countries_sinNan_fechas_float_country.withColumn(\"Month\", col(\"Month\").cast(IntegerType()))\n",
        "df_Pupulation_density_by_countries_sinNan_fechas_float_country = df_Pupulation_density_by_countries_sinNan_fechas_float_country.withColumn(\"Year\", col(\"Year\").cast(IntegerType()))\n",
        "\n",
        "# Cantidad de valores nulos por columna\n",
        "df_Pupulation_density_by_countries_sinNan_fechas_float_country.select(\n",
        "    [(col(c).isNull().cast(\"int\").alias(c)) for c in df_Pupulation_density_by_countries_sinNan_fechas_float_country.columns]\n",
        ").agg(*[sum(col(c)).alias(c) for c in df_Pupulation_density_by_countries_sinNan_fechas_float_country.columns]).show()"
      ],
      "metadata": {
        "colab": {
          "base_uri": "https://localhost:8080/"
        },
        "id": "8nHvwsrl9mzw",
        "outputId": "67c3d357-f462-48a3-dee1-0005e66f780c"
      },
      "execution_count": null,
      "outputs": [
        {
          "output_type": "stream",
          "name": "stdout",
          "text": [
            "+----+-------+--------+--------+----------+---------------+---------------+----+-----------------+---+-----+----+\n",
            "|Rank|Country|Area km2|Area mi2|Population|Density pop/km2|Density pop/mi2|Date|Population source|Day|Month|Year|\n",
            "+----+-------+--------+--------+----------+---------------+---------------+----+-----------------+---+-----+----+\n",
            "|   0|      0|       0|       0|        91|              0|              0|   0|                0|  0|    0|   0|\n",
            "+----+-------+--------+--------+----------+---------------+---------------+----+-----------------+---+-----+----+\n",
            "\n"
          ]
        }
      ]
    },
    {
      "cell_type": "code",
      "source": [
        "# Vuelvo a verificar información del dataset después del cambio de tipo de dato\n",
        "df_Pupulation_density_by_countries_sinNan_fechas_float_country.printSchema()\n"
      ],
      "metadata": {
        "colab": {
          "base_uri": "https://localhost:8080/"
        },
        "id": "JXVoBvWC_Lqa",
        "outputId": "0a35624e-533d-4ae1-8ec1-c939b6ad75d2"
      },
      "execution_count": null,
      "outputs": [
        {
          "output_type": "stream",
          "name": "stdout",
          "text": [
            "root\n",
            " |-- Rank: string (nullable = true)\n",
            " |-- Country: string (nullable = true)\n",
            " |-- Area km2: float (nullable = true)\n",
            " |-- Area mi2: float (nullable = true)\n",
            " |-- Population: integer (nullable = true)\n",
            " |-- Density pop/km2: float (nullable = true)\n",
            " |-- Density pop/mi2: float (nullable = true)\n",
            " |-- Date: date (nullable = true)\n",
            " |-- Population source: string (nullable = true)\n",
            " |-- Day: integer (nullable = true)\n",
            " |-- Month: integer (nullable = true)\n",
            " |-- Year: integer (nullable = true)\n",
            "\n"
          ]
        }
      ]
    },
    {
      "cell_type": "code",
      "source": [
        "\n",
        "# Verificar duplicados en 'Country'\n",
        "is_duplicated = df_Pupulation_density_by_countries_sinNan_fechas_float_country.select(\"Country\").distinct().count() != df_Pupulation_density_by_countries_sinNan_fechas_float_country.count()\n",
        "print(f\"¿Hay duplicados en 'Country'? {is_duplicated}\")\n"
      ],
      "metadata": {
        "id": "mV0FgGNxZKMQ",
        "colab": {
          "base_uri": "https://localhost:8080/"
        },
        "outputId": "d6487357-ec76-47a9-ce5d-06dc8c43f811"
      },
      "execution_count": null,
      "outputs": [
        {
          "output_type": "stream",
          "name": "stdout",
          "text": [
            "¿Hay duplicados en 'Country'? False\n"
          ]
        }
      ]
    },
    {
      "cell_type": "code",
      "source": [
        "\n",
        "# Guardar la tabla final en la carpeta RefinedData\n",
        "df_Pupulation_density_by_countries_sinNan_fechas_float_country.write.csv(RefinedOutput +\"/RefData_Pupulation_density_by_countries.csv\", header=True, mode=\"overwrite\")\n"
      ],
      "metadata": {
        "id": "YpT54t_p1Ifl"
      },
      "execution_count": null,
      "outputs": []
    },
    {
      "cell_type": "markdown",
      "source": [
        "////////////////////////////////////////////////////\n",
        "Quality_of_life_index_by_countries_2020.csv\n",
        "////////////////////////////////////////////////////"
      ],
      "metadata": {
        "id": "_xlSTwRy_58X"
      }
    },
    {
      "cell_type": "code",
      "source": [
        "\n",
        "# Visualización de las primeras 10 líneas del archivo\n",
        "df_Quality_of_life_index_by_countries_2020.show(10)\n",
        "\n"
      ],
      "metadata": {
        "id": "7aRQH35E_6Vm",
        "colab": {
          "base_uri": "https://localhost:8080/"
        },
        "outputId": "8a6e90c2-6b32-4455-db0c-e2ff55cab924"
      },
      "execution_count": 6,
      "outputs": [
        {
          "output_type": "stream",
          "name": "stdout",
          "text": [
            "+-----------+---------------------+----------------------+------------+-----------------+--------------------+------------------------------+--------------------------+---------------+-------------+\n",
            "|    Country|Quality of Life Index|Purchasing Power Index|Safety Index|Health Care Index|Cost of Living Index|Property Price to Income Ratio|Traffic Commute Time Index|Pollution Index|Climate Index|\n",
            "+-----------+---------------------+----------------------+------------+-----------------+--------------------+------------------------------+--------------------------+---------------+-------------+\n",
            "|    Denmark|               192.67|                100.88|        74.9|             80.0|                83.0|                          7.45|                     28.85|          21.33|         81.8|\n",
            "|Switzerland|               192.01|                119.53|        78.4|            72.44|               122.4|                          8.68|                     29.09|          22.39|        79.24|\n",
            "|    Finland|               190.22|                 99.93|       76.68|            75.79|               70.29|                          8.35|                      29.9|          11.55|        58.87|\n",
            "|  Australia|               186.21|                107.31|       58.64|            77.38|               73.54|                          7.52|                     34.73|          23.46|         92.7|\n",
            "|Netherlands|               183.67|                 90.73|       72.38|            74.65|               73.75|                          7.51|                     29.43|          27.41|        87.61|\n",
            "|    Austria|                182.5|                 82.38|       76.27|            78.73|               70.38|                         10.88|                     26.27|          22.19|         77.3|\n",
            "|    Iceland|               181.75|                 79.44|       76.64|            65.92|              100.48|                          6.74|                      20.1|          16.21|        68.81|\n",
            "|New Zealand|               181.02|                 92.66|       59.07|            73.81|               72.53|                          8.52|                      31.1|           23.4|        95.46|\n",
            "|    Germany|               179.78|                102.36|       65.19|            73.32|               65.26|                          9.38|                     30.98|          29.03|         83.0|\n",
            "|    Estonia|               177.82|                  71.3|       76.86|            72.67|               50.93|                          9.06|                     24.53|          19.81|        64.28|\n",
            "+-----------+---------------------+----------------------+------------+-----------------+--------------------+------------------------------+--------------------------+---------------+-------------+\n",
            "only showing top 10 rows\n",
            "\n"
          ]
        }
      ]
    },
    {
      "cell_type": "code",
      "source": [
        "# Forma del dataset: Número de filas y columnas\n",
        "num_rows = df_Quality_of_life_index_by_countries_2020.count()\n",
        "num_cols = len(df_Quality_of_life_index_by_countries_2020.columns)\n",
        "print(f\"Número de filas: {num_rows}, Número de columnas: {num_cols}\")\n",
        "\n"
      ],
      "metadata": {
        "id": "bDFhLetl_6gX",
        "colab": {
          "base_uri": "https://localhost:8080/"
        },
        "outputId": "d3022e01-a11e-4052-cf1f-b2dc21f0f9dc"
      },
      "execution_count": 7,
      "outputs": [
        {
          "output_type": "stream",
          "name": "stdout",
          "text": [
            "Número de filas: 80, Número de columnas: 10\n"
          ]
        }
      ]
    },
    {
      "cell_type": "code",
      "source": [
        "# Identificación de columnas, contenidos no nulos y tipo de dato\n",
        "df_Quality_of_life_index_by_countries_2020.printSchema()\n",
        "\n"
      ],
      "metadata": {
        "colab": {
          "base_uri": "https://localhost:8080/"
        },
        "id": "PFOVi9W8ILBb",
        "outputId": "85b1491e-94b2-4264-ca2d-6aa09439cf53"
      },
      "execution_count": 8,
      "outputs": [
        {
          "output_type": "stream",
          "name": "stdout",
          "text": [
            "root\n",
            " |-- Country: string (nullable = true)\n",
            " |-- Quality of Life Index: double (nullable = true)\n",
            " |-- Purchasing Power Index: double (nullable = true)\n",
            " |-- Safety Index: double (nullable = true)\n",
            " |-- Health Care Index: double (nullable = true)\n",
            " |-- Cost of Living Index: double (nullable = true)\n",
            " |-- Property Price to Income Ratio: double (nullable = true)\n",
            " |-- Traffic Commute Time Index: double (nullable = true)\n",
            " |-- Pollution Index: double (nullable = true)\n",
            " |-- Climate Index: double (nullable = true)\n",
            "\n"
          ]
        }
      ]
    },
    {
      "cell_type": "code",
      "source": [
        "# Verificar duplicados en la columna 'Country'\n",
        "country_duplicates = df_Quality_of_life_index_by_countries_2020.groupBy(\"Country\").count().filter(col(\"count\") > 1).count()\n",
        "print(f\"¿Hay duplicados en la columna 'Country'? {'Sí' if country_duplicates > 0 else 'No'}\")\n",
        "\n"
      ],
      "metadata": {
        "colab": {
          "base_uri": "https://localhost:8080/"
        },
        "id": "if6jtp1jILFk",
        "outputId": "35f92bf9-e72b-4773-bbad-f25df2a25310"
      },
      "execution_count": 9,
      "outputs": [
        {
          "output_type": "stream",
          "name": "stdout",
          "text": [
            "¿Hay duplicados en la columna 'Country'? No\n"
          ]
        }
      ]
    },
    {
      "cell_type": "code",
      "source": [
        "# Métricas descriptivas de las columnas numéricas\n",
        "df_Quality_of_life_index_by_countries_2020.describe().show()\n",
        "\n"
      ],
      "metadata": {
        "colab": {
          "base_uri": "https://localhost:8080/"
        },
        "id": "WhjPMPPCILLq",
        "outputId": "60e939f4-c81d-4e1e-9d1e-d40740011aee"
      },
      "execution_count": 10,
      "outputs": [
        {
          "output_type": "stream",
          "name": "stdout",
          "text": [
            "+-------+---------+---------------------+----------------------+------------------+-----------------+--------------------+------------------------------+--------------------------+-----------------+-----------------+\n",
            "|summary|  Country|Quality of Life Index|Purchasing Power Index|      Safety Index|Health Care Index|Cost of Living Index|Property Price to Income Ratio|Traffic Commute Time Index|  Pollution Index|    Climate Index|\n",
            "+-------+---------+---------------------+----------------------+------------------+-----------------+--------------------+------------------------------+--------------------------+-----------------+-----------------+\n",
            "|  count|       80|                   80|                    80|                80|               80|                  80|                            80|                        80|               80|               80|\n",
            "|   mean|     null|   134.10037499999993|                59.751|         61.079125|          64.8405|   52.46124999999997|            13.332874999999998|         35.98925000000002|        53.227625|77.35024999999997|\n",
            "| stddev|     null|    33.92174764290208|     26.99515463320938|13.808162252606387|9.840010535653507|  19.772412591374493|              7.13938642077804|          8.23698217672873|20.69820045035103|16.52058508595499|\n",
            "|    min|Argentina|                55.65|                 13.52|             22.51|             42.8|               21.98|                          2.79|                      20.1|            11.55|            20.22|\n",
            "|    max|  Vietnam|               192.67|                119.53|             88.14|            86.71|               122.4|                         47.46|                     61.08|            88.37|            99.79|\n",
            "+-------+---------+---------------------+----------------------+------------------+-----------------+--------------------+------------------------------+--------------------------+-----------------+-----------------+\n",
            "\n"
          ]
        }
      ]
    },
    {
      "cell_type": "code",
      "source": [
        "# Aplicar trim para eliminar espacios en blanco de las columnas de tipo texto\n",
        "df_Quality_of_life_index_by_countries_2020 = df_Quality_of_life_index_by_countries_2020.select(\n",
        "    [trim(col(c)).alias(c) if df_Quality_of_life_index_by_countries_2020.schema[c].dataType == \"StringType\" else col(c)\n",
        "     for c in df_Quality_of_life_index_by_countries_2020.columns]\n",
        ")\n"
      ],
      "metadata": {
        "id": "hlvYXXgPIUXM"
      },
      "execution_count": 11,
      "outputs": []
    },
    {
      "cell_type": "code",
      "source": [
        "\n",
        "# Guardar el DataFrame limpio como un archivo CSV\n",
        "df_Quality_of_life_index_by_countries_2020.write.csv(RefinedOutput +\"/RefData_Quality_of_life_index_by_countries_2020.csv\", header=True, mode=\"overwrite\")"
      ],
      "metadata": {
        "id": "tz8dulDGIUeL"
      },
      "execution_count": 12,
      "outputs": []
    }
  ]
}